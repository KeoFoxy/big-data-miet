{
 "cells": [
  {
   "cell_type": "markdown",
   "metadata": {
    "id": "RVSR7QifIwJ7"
   },
   "source": [
    "# Лабораторная работа № 2. Работа с массивами и таблицами."
   ]
  },
  {
   "cell_type": "markdown",
   "metadata": {
    "id": "gMOsSKNNIwKI"
   },
   "source": [
    "В работе проводится обзор основных возможностей языка Python и модулей **numpy**, **pandas** для анализа данных."
   ]
  },
  {
   "cell_type": "markdown",
   "metadata": {
    "id": "EqclkyYTIwKM"
   },
   "source": [
    "## Цель работы\n",
    "\n",
    "Изучить основные возможности языка Python и модулей **numpy** и **pandas** по работе с векторами, одномерными и многомерными массивами. Освоить выполнение векторных операций над массивами данных, булево индексирование, а также аггрегирование двумерных таблиц."
   ]
  },
  {
   "cell_type": "markdown",
   "metadata": {
    "id": "lCk4Ee0XIwKO"
   },
   "source": [
    "## Модуль numpy"
   ]
  },
  {
   "cell_type": "markdown",
   "metadata": {
    "id": "FDXsjM1DIwKQ"
   },
   "source": [
    "NumPy это open-source модуль для языка Python, который предоставляет общие математические и числовые операции в виде пре-скомпилированных, быстрых функций. Они объединяются в высокоуровневые пакеты. NumPy (Numeric Python) предоставляет базовые методы для манипуляции с большими массивами и матрицами. SciPy (Scientific Python) расширяет функционал numpy огромной коллекцией полезных алгоритмов, таких как минимизация, преобразование Фурье, регрессия, и другие прикладные математические техники.\n",
    "\n",
    "Всю документацию по этому модулю и примеры его использования можно найти на [официальном сайте.](https://numpy.org/doc/stable/ \"numpy.org\")"
   ]
  },
  {
   "cell_type": "markdown",
   "metadata": {
    "id": "Sd22-hqfIwKS"
   },
   "source": [
    "Чтобы использовать модуль, его необходимо подключить с помощью команды **import**. Команда **as** позволяет обращаться к модулю через любое другое ключевое слово. Это позволяет сделать код более кратким и легко воспринимаемым. Стандартное сокращение для модуля **numpy** - это **np**."
   ]
  },
  {
   "cell_type": "code",
   "execution_count": 1,
   "metadata": {
    "id": "L5f16opSIwKV"
   },
   "outputs": [],
   "source": [
    "import numpy as np"
   ]
  },
  {
   "cell_type": "markdown",
   "metadata": {
    "id": "ylSOPfxsIwKa"
   },
   "source": [
    "### Создание массивов"
   ]
  },
  {
   "cell_type": "markdown",
   "metadata": {
    "id": "i5mdLbw3IwKc"
   },
   "source": [
    "Ключевым типом данных, с которым работает **numpy**, являются массивы различных размерностей. В конструктор **np.array()** можно передать любой объект, имеющий структуру массива, например, список, в том числе многомерный. Также можно задать тип данных."
   ]
  },
  {
   "cell_type": "code",
   "execution_count": null,
   "metadata": {
    "id": "4h-uKzHXIwKf",
    "outputId": "810c02ff-85ed-4756-85cf-0661a4b1c2f1"
   },
   "outputs": [
    {
     "data": {
      "text/plain": [
       "array([1, 2, 3, 4, 5])"
      ]
     },
     "execution_count": 2,
     "metadata": {},
     "output_type": "execute_result"
    }
   ],
   "source": [
    "arr = np.array([1,2,3,4,5], dtype=np.int)\n",
    "arr"
   ]
  },
  {
   "cell_type": "code",
   "execution_count": null,
   "metadata": {
    "id": "u6dMCzHDIwKi",
    "outputId": "b1f93da5-c162-47df-82d6-0a8f67c95974"
   },
   "outputs": [
    {
     "data": {
      "text/plain": [
       "array([[1., 2., 3.],\n",
       "       [4., 5., 6.]], dtype=float32)"
      ]
     },
     "execution_count": 3,
     "metadata": {},
     "output_type": "execute_result"
    }
   ],
   "source": [
    "arr = np.array([[1,2,3],[4,5,6]], dtype=np.float32)\n",
    "arr"
   ]
  },
  {
   "cell_type": "markdown",
   "metadata": {
    "id": "D2UR3GeDIwKk"
   },
   "source": [
    "Конструкторы **np.zeros()**, **np.ones()**, **np.empty()** позволяют создавать массивы, состоящие из нулей и единиц, пустые массивы соответственно. Размер массива указывается в параметре **shape**."
   ]
  },
  {
   "cell_type": "code",
   "execution_count": null,
   "metadata": {
    "id": "NgsQN52eIwKl",
    "outputId": "14932fe9-77f7-45ff-9984-77a393c0a86f"
   },
   "outputs": [
    {
     "data": {
      "text/plain": [
       "array([[0., 0., 0.],\n",
       "       [0., 0., 0.]])"
      ]
     },
     "execution_count": 4,
     "metadata": {},
     "output_type": "execute_result"
    }
   ],
   "source": [
    "arr = np.zeros(shape=(2,3))\n",
    "arr"
   ]
  },
  {
   "cell_type": "code",
   "execution_count": null,
   "metadata": {
    "id": "BK_V8cQUIwKn",
    "outputId": "26db8cde-fd75-4ceb-9a9a-132bec1d49f8"
   },
   "outputs": [
    {
     "data": {
      "text/plain": [
       "array([[1, 1],\n",
       "       [1, 1],\n",
       "       [1, 1]])"
      ]
     },
     "execution_count": 5,
     "metadata": {},
     "output_type": "execute_result"
    }
   ],
   "source": [
    "arr = np.ones(shape=(3,2), dtype=np.int)\n",
    "arr"
   ]
  },
  {
   "cell_type": "code",
   "execution_count": null,
   "metadata": {
    "id": "O1TXldTuIwKo",
    "outputId": "26a58407-cf6e-4bc2-b588-437659c3830b"
   },
   "outputs": [
    {
     "data": {
      "text/plain": [
       "array([[3.98210433e+209, 5.55603592e+180],\n",
       "       [3.62479391e+228, 4.24356832e+175]])"
      ]
     },
     "execution_count": 6,
     "metadata": {},
     "output_type": "execute_result"
    }
   ],
   "source": [
    "arr = np.empty(shape=(2,2))\n",
    "arr"
   ]
  },
  {
   "cell_type": "markdown",
   "metadata": {
    "id": "1iaKava1IwKq"
   },
   "source": [
    "Массивы имеют несколько атрибутов, например, **shape** (форма), **size** (размер), **dtype** (тип данных)."
   ]
  },
  {
   "cell_type": "code",
   "execution_count": null,
   "metadata": {
    "id": "do5SX3sAIwKr",
    "outputId": "345e34ad-e69c-4e81-addd-2214d87fa208"
   },
   "outputs": [
    {
     "name": "stdout",
     "output_type": "stream",
     "text": [
      "Shape:  (2, 2)\n",
      "Size:  4\n",
      "Data type:  float64\n"
     ]
    }
   ],
   "source": [
    "print('Shape: ', arr.shape)\n",
    "print('Size: ', arr.size)\n",
    "print('Data type: ', arr.dtype)"
   ]
  },
  {
   "cell_type": "markdown",
   "metadata": {
    "id": "7PDt-TbiIwKt"
   },
   "source": [
    "### Индексирование"
   ]
  },
  {
   "cell_type": "markdown",
   "metadata": {
    "id": "CenSoYxJIwKt"
   },
   "source": [
    "Получить определенный элемент массива можно стандартным образом, указав в квадратных скобках номер элемента."
   ]
  },
  {
   "cell_type": "code",
   "execution_count": null,
   "metadata": {
    "id": "S8iIlPT_IwKv",
    "outputId": "81bbc970-1e55-407b-9768-01c290fcef56"
   },
   "outputs": [
    {
     "data": {
      "text/plain": [
       "array([[ 1,  2,  3,  4,  5],\n",
       "       [ 6,  7,  8,  9, 10],\n",
       "       [11, 12, 13, 14, 15]])"
      ]
     },
     "execution_count": 8,
     "metadata": {},
     "output_type": "execute_result"
    }
   ],
   "source": [
    "arr2d = np.array([[1,2,3,4,5],[6,7,8,9,10],[11,12,13,14,15]])\n",
    "arr2d"
   ]
  },
  {
   "cell_type": "code",
   "execution_count": null,
   "metadata": {
    "id": "dnGqR13HIwKw",
    "outputId": "59da259d-c014-4fba-80e9-aa6db00a4abc"
   },
   "outputs": [
    {
     "data": {
      "text/plain": [
       "14"
      ]
     },
     "execution_count": 9,
     "metadata": {},
     "output_type": "execute_result"
    }
   ],
   "source": [
    "arr2d[2,3]"
   ]
  },
  {
   "cell_type": "markdown",
   "metadata": {
    "id": "5GEfIBtBIwKx"
   },
   "source": [
    "Очень мощным (в смысле уменьшения временных затрат на выполнение операции) способом получения какой-то части массива является *slicing*. \n",
    "\n",
    "В квадратных скобках через двоеточие указывается последовательно начальный индекс, конечный индекс и шаг, с которым нужно выдавать элементы массива. Если не указан первый, то он подразумевается равным 0. Если не указан второй, то он подразумевается равным максимальному индексу. Если не указан последний, то он подразумевается равным 0. "
   ]
  },
  {
   "cell_type": "code",
   "execution_count": null,
   "metadata": {
    "id": "Ze8zZd07IwKz",
    "outputId": "d7e66bdd-6e81-439f-9786-c6227ca79768"
   },
   "outputs": [
    {
     "data": {
      "text/plain": [
       "array([ 3,  8, 13])"
      ]
     },
     "execution_count": 10,
     "metadata": {},
     "output_type": "execute_result"
    }
   ],
   "source": [
    "arr2d[:,2]"
   ]
  },
  {
   "cell_type": "code",
   "execution_count": null,
   "metadata": {
    "id": "MkfRyjw1IwK0",
    "outputId": "ea80d740-eedc-4506-fef5-6c98cf5f7574"
   },
   "outputs": [
    {
     "data": {
      "text/plain": [
       "array([[2, 3, 4],\n",
       "       [7, 8, 9]])"
      ]
     },
     "execution_count": 11,
     "metadata": {},
     "output_type": "execute_result"
    }
   ],
   "source": [
    "arr2d[:2, 1:4]"
   ]
  },
  {
   "cell_type": "code",
   "execution_count": null,
   "metadata": {
    "id": "rTELQHAfIwK1",
    "outputId": "1830affd-5f71-4088-f993-48cbb8acead6"
   },
   "outputs": [
    {
     "data": {
      "text/plain": [
       "array([[ 2,  3,  4,  5],\n",
       "       [ 7,  8,  9, 10]])"
      ]
     },
     "execution_count": 12,
     "metadata": {},
     "output_type": "execute_result"
    }
   ],
   "source": [
    "arr2d[:2, 1:]"
   ]
  },
  {
   "cell_type": "code",
   "execution_count": null,
   "metadata": {
    "id": "5mjfQN0JIwK2",
    "outputId": "d09c22b3-47d3-4317-bee9-2bb59e61820c"
   },
   "outputs": [
    {
     "data": {
      "text/plain": [
       "array([[2, 4],\n",
       "       [7, 9]])"
      ]
     },
     "execution_count": 13,
     "metadata": {},
     "output_type": "execute_result"
    }
   ],
   "source": [
    "arr2d[:2, 1::2]"
   ]
  },
  {
   "cell_type": "markdown",
   "metadata": {
    "id": "je606wJkIwK3"
   },
   "source": [
    "Значение -1 обозначает максимальный индекс, -2 - предшествующий максимальному и т.д. Если значение -1 стоит в качестве шага для *slising*, то это означает, что элементы будут возвращаться в обратном порядке. Такой трюк можно использовать, например, для изменения порядка следования элементов в массиве на противоположный. "
   ]
  },
  {
   "cell_type": "code",
   "execution_count": null,
   "metadata": {
    "id": "O61Z5jzyIwK4",
    "outputId": "58f1f167-910b-49e1-9744-23c1df800720"
   },
   "outputs": [
    {
     "data": {
      "text/plain": [
       "array([ 5, 10, 15])"
      ]
     },
     "execution_count": 14,
     "metadata": {},
     "output_type": "execute_result"
    }
   ],
   "source": [
    "arr2d[:,-1]"
   ]
  },
  {
   "cell_type": "code",
   "execution_count": null,
   "metadata": {
    "id": "yVp-qGjHIwK5",
    "outputId": "ed1e1c4c-8e29-4e4b-bd25-8ee16248b3db"
   },
   "outputs": [
    {
     "data": {
      "text/plain": [
       "array([[ 5,  4,  3,  2,  1],\n",
       "       [10,  9,  8,  7,  6],\n",
       "       [15, 14, 13, 12, 11]])"
      ]
     },
     "execution_count": 15,
     "metadata": {},
     "output_type": "execute_result"
    }
   ],
   "source": [
    "arr2d[:,::-1]"
   ]
  },
  {
   "cell_type": "code",
   "execution_count": null,
   "metadata": {
    "id": "yFXcpd1UIwK5",
    "outputId": "9a2eedb8-9819-4597-c149-469b13f3a4e6"
   },
   "outputs": [
    {
     "data": {
      "text/plain": [
       "array([[15, 14, 13, 12, 11],\n",
       "       [10,  9,  8,  7,  6],\n",
       "       [ 5,  4,  3,  2,  1]])"
      ]
     },
     "execution_count": 16,
     "metadata": {},
     "output_type": "execute_result"
    }
   ],
   "source": [
    "arr2d[::-1,::-1]"
   ]
  },
  {
   "cell_type": "markdown",
   "metadata": {
    "id": "cRsKXJ5UIwK6"
   },
   "source": [
    "### Генераторы"
   ]
  },
  {
   "cell_type": "markdown",
   "metadata": {
    "id": "BHyF_Xc0IwK7"
   },
   "source": [
    "Другим способ создания массивов с упорядоченными элементами являются различные генераторы. Например, метод **np.arange(a,b,c)**, который создает массив чисел в диапазоне от **a** до **b** с шагом **c**.\n",
    "\n",
    "**np.linspace(a, b, n)** создает массив чисел в количестве **n**, линейно расположенных в диапазоне от **a** до **b**. Параметр **endpoint** указывает на то, включать **b** в массив или нет. По умолчанию он равен **True**.\n",
    "\n",
    "**np.logspace(a, b, n)** создает массив чисел в количестве **n**, логарифмически расположенных в диапазоне от **$10^a$** до **$10^b$**. Параметр **endpoint** указывает на то, включать **b** в массив или нет. По умолчанию он равен **True**."
   ]
  },
  {
   "cell_type": "code",
   "execution_count": null,
   "metadata": {
    "id": "DMV9G0-TIwK8",
    "outputId": "b8d6b68d-9dfa-4e18-a8ff-c4f7dcdd2902"
   },
   "outputs": [
    {
     "data": {
      "text/plain": [
       "array([ 0,  2,  4,  6,  8, 10, 12, 14, 16, 18, 20, 22, 24, 26, 28, 30, 32,\n",
       "       34, 36, 38, 40, 42, 44, 46, 48, 50, 52, 54, 56, 58, 60, 62, 64, 66,\n",
       "       68, 70, 72, 74, 76, 78, 80, 82, 84, 86, 88, 90, 92, 94, 96, 98])"
      ]
     },
     "execution_count": 17,
     "metadata": {},
     "output_type": "execute_result"
    }
   ],
   "source": [
    "np.arange(0,100,2)"
   ]
  },
  {
   "cell_type": "code",
   "execution_count": null,
   "metadata": {
    "id": "32MtwEC5IwK9",
    "outputId": "0a5bc184-fad7-4667-b211-c6a65ec73b37"
   },
   "outputs": [
    {
     "data": {
      "text/plain": [
       "array([  0.        ,   5.26315789,  10.52631579,  15.78947368,\n",
       "        21.05263158,  26.31578947,  31.57894737,  36.84210526,\n",
       "        42.10526316,  47.36842105,  52.63157895,  57.89473684,\n",
       "        63.15789474,  68.42105263,  73.68421053,  78.94736842,\n",
       "        84.21052632,  89.47368421,  94.73684211, 100.        ])"
      ]
     },
     "execution_count": 18,
     "metadata": {},
     "output_type": "execute_result"
    }
   ],
   "source": [
    "np.linspace(0,100,20)"
   ]
  },
  {
   "cell_type": "code",
   "execution_count": null,
   "metadata": {
    "id": "ks-zYbXFIwK-",
    "outputId": "ec47ae7b-a0a9-4210-a3bd-e970c453c681"
   },
   "outputs": [
    {
     "data": {
      "text/plain": [
       "array([ 0.,  5., 10., 15., 20., 25., 30., 35., 40., 45., 50., 55., 60.,\n",
       "       65., 70., 75., 80., 85., 90., 95.])"
      ]
     },
     "execution_count": 19,
     "metadata": {},
     "output_type": "execute_result"
    }
   ],
   "source": [
    "np.linspace(0,100,20, endpoint=False)"
   ]
  },
  {
   "cell_type": "code",
   "execution_count": null,
   "metadata": {
    "id": "clq_RzG_IwK_",
    "outputId": "a884c9c7-2fac-436a-e9e4-04e6478f2998"
   },
   "outputs": [
    {
     "data": {
      "text/plain": [
       "array([1.00000000e-05, 1.29154967e-04, 1.66810054e-03, 2.15443469e-02,\n",
       "       2.78255940e-01, 3.59381366e+00, 4.64158883e+01, 5.99484250e+02,\n",
       "       7.74263683e+03, 1.00000000e+05])"
      ]
     },
     "execution_count": 20,
     "metadata": {},
     "output_type": "execute_result"
    }
   ],
   "source": [
    "np.logspace(-5,5,10)"
   ]
  },
  {
   "cell_type": "code",
   "execution_count": null,
   "metadata": {
    "id": "33LANz1jIwK_",
    "outputId": "7b4d598c-b6d3-46ed-b6fd-d4e739fe5751"
   },
   "outputs": [
    {
     "data": {
      "text/plain": [
       "array([1.e-05, 1.e-04, 1.e-03, 1.e-02, 1.e-01, 1.e+00, 1.e+01, 1.e+02,\n",
       "       1.e+03, 1.e+04])"
      ]
     },
     "execution_count": 21,
     "metadata": {},
     "output_type": "execute_result"
    }
   ],
   "source": [
    "np.logspace(-5,5,10, endpoint=False)"
   ]
  },
  {
   "cell_type": "markdown",
   "metadata": {
    "id": "ic5lFwuPIwLA"
   },
   "source": [
    "### Увеличение массива"
   ]
  },
  {
   "cell_type": "markdown",
   "metadata": {
    "id": "fQkBeXGKIwLB"
   },
   "source": [
    "Для того, чтобы добавить элемент в одномерный массив, применяется функция **np.append(arr1, arr2)**, где в качестве первого аргумента передается массив, в который нужно добавить элементы, а последующие - то, что нужно добавить. Они могут быть как скалярами, так и одномерными массивами. При этом возвращается новый массив, а не изменяется старый."
   ]
  },
  {
   "cell_type": "code",
   "execution_count": null,
   "metadata": {
    "id": "0Fc0vA9AIwLC",
    "outputId": "aa89194b-e299-4a25-afda-f359a369cf2e"
   },
   "outputs": [
    {
     "data": {
      "text/plain": [
       "array([ 0,  2,  4,  6,  8, 10, 12, 14, 16, 18])"
      ]
     },
     "execution_count": 22,
     "metadata": {},
     "output_type": "execute_result"
    }
   ],
   "source": [
    "arr1d = np.arange(0,20,2)\n",
    "arr1d"
   ]
  },
  {
   "cell_type": "code",
   "execution_count": null,
   "metadata": {
    "id": "cixTtnnFIwLC",
    "outputId": "4709b8f9-6a91-4293-cdf8-03e2a2725b88"
   },
   "outputs": [
    {
     "data": {
      "text/plain": [
       "array([ 0,  2,  4,  6,  8, 10, 12, 14, 16, 18])"
      ]
     },
     "execution_count": 23,
     "metadata": {},
     "output_type": "execute_result"
    }
   ],
   "source": [
    "np.append(arr1d, 20)\n",
    "arr1d"
   ]
  },
  {
   "cell_type": "code",
   "execution_count": null,
   "metadata": {
    "id": "WovBCULYIwLD",
    "outputId": "68bb73c1-fdba-4483-949f-44ba2db4e48e"
   },
   "outputs": [
    {
     "data": {
      "text/plain": [
       "array([ 0,  2,  4,  6,  8, 10, 12, 14, 16, 18, 20])"
      ]
     },
     "execution_count": 24,
     "metadata": {},
     "output_type": "execute_result"
    }
   ],
   "source": [
    "arr1d = np.append(arr1d, 20)\n",
    "arr1d"
   ]
  },
  {
   "cell_type": "code",
   "execution_count": null,
   "metadata": {
    "id": "toZCLNoIIwLE",
    "outputId": "327b3a45-a75a-4828-81d0-3e7550bab5a5"
   },
   "outputs": [
    {
     "data": {
      "text/plain": [
       "array([ 0,  2,  4,  6,  8, 10, 12, 14, 16, 18, 20, 22, 24, 26, 28])"
      ]
     },
     "execution_count": 25,
     "metadata": {},
     "output_type": "execute_result"
    }
   ],
   "source": [
    "arr1d = np.append(arr1d, [22, 24, 26, 28])\n",
    "arr1d"
   ]
  },
  {
   "cell_type": "code",
   "execution_count": null,
   "metadata": {
    "id": "wNPv-13rIwLF",
    "outputId": "15ea9eb4-910a-42b8-bbe1-c3fb45b93354"
   },
   "outputs": [
    {
     "data": {
      "text/plain": [
       "array([ 0,  2,  4,  6,  8, 10, 12, 14, 16, 18, 20, 22, 24, 26, 28,  0,  8,\n",
       "       16, 24])"
      ]
     },
     "execution_count": 26,
     "metadata": {},
     "output_type": "execute_result"
    }
   ],
   "source": [
    "arr1d = np.append(arr1d, arr1d[::4])\n",
    "arr1d"
   ]
  },
  {
   "cell_type": "markdown",
   "metadata": {
    "id": "SmLj6M8MIwLG"
   },
   "source": [
    "Иногда необходимо создать пустой массив и поэлементно добавлять в него значения (например, в цикле for). При добавлении первого элемента произойдет ошибка, поскольку в пустой массив с помощью **np.append()** добавить новое значение невозможно. Для решения этой проблемы удобно использовать конструкцию **if / else**. В этом случае, если **arr = None** (первая итерация), то выполниться **arr = np.array(i)** и создастся массив. На всех последующих итерациях к массиву будет добавляться по одному элементу."
   ]
  },
  {
   "cell_type": "code",
   "execution_count": null,
   "metadata": {
    "id": "BaeHCb3OIwLH",
    "outputId": "4fab5cf7-3cdc-4163-c93a-1ee6a0254c5d"
   },
   "outputs": [
    {
     "data": {
      "text/plain": [
       "array([0, 1, 2, 3, 4, 5, 6, 7, 8, 9])"
      ]
     },
     "execution_count": 27,
     "metadata": {},
     "output_type": "execute_result"
    }
   ],
   "source": [
    "arr = None\n",
    "for i in range(10):\n",
    "    arr = np.append(arr, i) if arr is not None else np.array(i)\n",
    "arr"
   ]
  },
  {
   "cell_type": "markdown",
   "metadata": {
    "id": "i3mEY4j_IwLI"
   },
   "source": [
    "Для объединения двух многомерных массивов используются методы **np.vstack((arr1, arr2, ...))** - объединение вдоль вертикальной оси, **np.hstack((arr1, arr2, ...))** - объединение вдоль горизонтальной оси. Параметры **arr1**, **arr2**, ... должны иметь одинаковую ширину (в случае с **np.vstack()**) или одинаковую высоту (в случае с **np.hstack()**). \n",
    "\n",
    "Существуют и другие (более общие) способы объединения массивов - **np.concatenate()** и **np.stack()**."
   ]
  },
  {
   "cell_type": "code",
   "execution_count": null,
   "metadata": {
    "id": "7uKyBXeVIwLI",
    "outputId": "52ef1dfd-64aa-409c-de72-bd908b5f316c"
   },
   "outputs": [
    {
     "data": {
      "text/plain": [
       "array([[ 1,  2,  3,  4,  5],\n",
       "       [ 6,  7,  8,  9, 10],\n",
       "       [11, 12, 13, 14, 15],\n",
       "       [ 1,  2,  3,  4,  5],\n",
       "       [ 6,  7,  8,  9, 10]])"
      ]
     },
     "execution_count": 28,
     "metadata": {},
     "output_type": "execute_result"
    }
   ],
   "source": [
    "arr = np.vstack((arr2d, arr2d[:2]))\n",
    "arr"
   ]
  },
  {
   "cell_type": "code",
   "execution_count": null,
   "metadata": {
    "id": "KzxLnyh5IwLJ",
    "outputId": "ca8bdb79-4890-4e53-9232-a2edc4039bc7"
   },
   "outputs": [
    {
     "data": {
      "text/plain": [
       "array([[ 1,  2,  3,  4,  5,  1,  2,  3,  4,  5,  1,  2,  3],\n",
       "       [ 6,  7,  8,  9, 10,  6,  7,  8,  9, 10,  6,  7,  8],\n",
       "       [11, 12, 13, 14, 15, 11, 12, 13, 14, 15, 11, 12, 13],\n",
       "       [ 1,  2,  3,  4,  5,  1,  2,  3,  4,  5,  1,  2,  3],\n",
       "       [ 6,  7,  8,  9, 10,  6,  7,  8,  9, 10,  6,  7,  8]])"
      ]
     },
     "execution_count": 29,
     "metadata": {},
     "output_type": "execute_result"
    }
   ],
   "source": [
    "arr = np.hstack((arr, arr, arr[:,:3]))\n",
    "arr"
   ]
  },
  {
   "cell_type": "markdown",
   "metadata": {
    "id": "3dFdOrDCIwLK"
   },
   "source": [
    "### Векторные операции"
   ]
  },
  {
   "cell_type": "markdown",
   "metadata": {
    "id": "0GLlkrdMIwLK"
   },
   "source": [
    "Выполнение арифметических операций в векторной форме позволяет существенно ускорить выполнение этих операций, особенно если массивы очень большие. Поэтому всегда надо стараться писать код так, чтобы он был векторным.\n",
    "\n",
    "Простые арифметические операции (сложение, вычитание, умножение и деление на число), возведение в степень, примененные к массивам, являются по определению векторными и выполняются поэлементно."
   ]
  },
  {
   "cell_type": "code",
   "execution_count": null,
   "metadata": {
    "id": "AeV_VqsHIwLL",
    "outputId": "5e090534-b06e-43a7-b563-45726463c869"
   },
   "outputs": [
    {
     "data": {
      "text/plain": [
       "array([[ 1,  2,  3,  4,  5],\n",
       "       [ 6,  7,  8,  9, 10],\n",
       "       [11, 12, 13, 14, 15]])"
      ]
     },
     "execution_count": 30,
     "metadata": {},
     "output_type": "execute_result"
    }
   ],
   "source": [
    "arr2d"
   ]
  },
  {
   "cell_type": "code",
   "execution_count": null,
   "metadata": {
    "id": "zRNbxHuKIwLM",
    "outputId": "d46a562a-3efd-45e5-fc3f-5a4211c9fabe"
   },
   "outputs": [
    {
     "data": {
      "text/plain": [
       "array([[ 6,  7,  8,  9, 10],\n",
       "       [11, 12, 13, 14, 15],\n",
       "       [16, 17, 18, 19, 20]])"
      ]
     },
     "execution_count": 31,
     "metadata": {},
     "output_type": "execute_result"
    }
   ],
   "source": [
    "arr2d + 5"
   ]
  },
  {
   "cell_type": "code",
   "execution_count": null,
   "metadata": {
    "id": "vOXnEFblIwLN",
    "outputId": "c76de3a6-6fbe-4bfa-ce25-67e703307e6b"
   },
   "outputs": [
    {
     "data": {
      "text/plain": [
       "array([[ 2,  4,  6,  8, 10],\n",
       "       [12, 14, 16, 18, 20],\n",
       "       [22, 24, 26, 28, 30]])"
      ]
     },
     "execution_count": 32,
     "metadata": {},
     "output_type": "execute_result"
    }
   ],
   "source": [
    "arr2d * 2"
   ]
  },
  {
   "cell_type": "code",
   "execution_count": null,
   "metadata": {
    "id": "-XTASe4iIwLN",
    "outputId": "e6b4b4a8-b738-43db-8a23-d721a1aa48da"
   },
   "outputs": [
    {
     "data": {
      "text/plain": [
       "array([[  1,   4,   9,  16,  25],\n",
       "       [ 36,  49,  64,  81, 100],\n",
       "       [121, 144, 169, 196, 225]], dtype=int32)"
      ]
     },
     "execution_count": 33,
     "metadata": {},
     "output_type": "execute_result"
    }
   ],
   "source": [
    "arr2d ** 2"
   ]
  },
  {
   "cell_type": "markdown",
   "metadata": {
    "id": "_53VPbyaIwLO"
   },
   "source": [
    "Сложение и вычитание, произведение и деление двух массивов также являются векторными операциями (массивы должны иметь одинаковый размер) и выполняются поэлементно."
   ]
  },
  {
   "cell_type": "code",
   "execution_count": null,
   "metadata": {
    "id": "c2anOZA3IwLP",
    "outputId": "4a59e0c3-23d2-46a0-991a-bb7db10f5639"
   },
   "outputs": [
    {
     "data": {
      "text/plain": [
       "array([[ 2.,  3.,  4.,  5.,  6.],\n",
       "       [ 7.,  8.,  9., 10., 11.],\n",
       "       [12., 13., 14., 15., 16.]])"
      ]
     },
     "execution_count": 34,
     "metadata": {},
     "output_type": "execute_result"
    }
   ],
   "source": [
    "arr2d + np.ones(shape=arr2d.shape)"
   ]
  },
  {
   "cell_type": "code",
   "execution_count": null,
   "metadata": {
    "id": "rzRDleaKIwLQ",
    "outputId": "5b96db09-f385-4cf0-ce54-a9a5c0cf883f"
   },
   "outputs": [
    {
     "data": {
      "text/plain": [
       "array([[1., 1., 1., 1., 1.],\n",
       "       [1., 1., 1., 1., 1.],\n",
       "       [1., 1., 1., 1., 1.]])"
      ]
     },
     "execution_count": 35,
     "metadata": {},
     "output_type": "execute_result"
    }
   ],
   "source": [
    "arr2d / arr2d"
   ]
  },
  {
   "cell_type": "markdown",
   "metadata": {
    "id": "m2ec7x1aIwLQ"
   },
   "source": [
    "Примененить к элементам массивов более сложные функции можно с помощью определенных в модуле **numpy** стандартных функций: **np.sin()**, **np.log()** и т.д.  "
   ]
  },
  {
   "cell_type": "code",
   "execution_count": null,
   "metadata": {
    "id": "jtZ_FqESIwLR",
    "outputId": "0b371638-3716-4767-b2f3-08bb35c3059c"
   },
   "outputs": [
    {
     "data": {
      "text/plain": [
       "array([[ 0.84147098,  0.90929743,  0.14112001, -0.7568025 , -0.95892427],\n",
       "       [-0.2794155 ,  0.6569866 ,  0.98935825,  0.41211849, -0.54402111],\n",
       "       [-0.99999021, -0.53657292,  0.42016704,  0.99060736,  0.65028784]])"
      ]
     },
     "execution_count": 36,
     "metadata": {},
     "output_type": "execute_result"
    }
   ],
   "source": [
    "np.sin(arr2d)"
   ]
  },
  {
   "cell_type": "code",
   "execution_count": null,
   "metadata": {
    "id": "74xhhjGcIwLR",
    "outputId": "9e97cd9f-dc85-4849-8f87-d1d80005a45d"
   },
   "outputs": [
    {
     "data": {
      "text/plain": [
       "array([[0.        , 0.69314718, 1.09861229, 1.38629436, 1.60943791],\n",
       "       [1.79175947, 1.94591015, 2.07944154, 2.19722458, 2.30258509],\n",
       "       [2.39789527, 2.48490665, 2.56494936, 2.63905733, 2.7080502 ]])"
      ]
     },
     "execution_count": 37,
     "metadata": {},
     "output_type": "execute_result"
    }
   ],
   "source": [
    "np.log(arr2d)"
   ]
  },
  {
   "cell_type": "markdown",
   "metadata": {
    "id": "kD5zOu6oIwLS"
   },
   "source": [
    "С помощью метода **np.apply_along_axis(func, axis, arr)** можно применить различные функции **func** к столбцам или строкам массива **arr**. Функция **func** принимает на вход одномерный массив, т.е. выполняет какую-то операцию над столбцами (если **axis** = 0) или над строками (если **axis** = 1).\n",
    "\n",
    "Функция **func** может быть встроенной (определенной в модуле **numpy**) или определенной самим пользователем. Главное, чтобы она принимала на вход одномерный массив. Отдельным классом таких функций являются lambda-выражения, или анонимные функции. Их синтаксис таков: *lambda x: x+1*, где до двоеточия указываются аргументы, а после двоеточия - операция.  "
   ]
  },
  {
   "cell_type": "code",
   "execution_count": null,
   "metadata": {
    "id": "UObQM6eTIwLT",
    "outputId": "161beb10-b642-4c3b-a1d0-1734d7b6e5d3"
   },
   "outputs": [
    {
     "data": {
      "text/plain": [
       "array([11, 12, 13, 14, 15])"
      ]
     },
     "execution_count": 38,
     "metadata": {},
     "output_type": "execute_result"
    }
   ],
   "source": [
    "np.apply_along_axis(np.max, 0, arr2d)"
   ]
  },
  {
   "cell_type": "code",
   "execution_count": null,
   "metadata": {
    "id": "WrorOHqtIwLT",
    "outputId": "a6f7f0d0-9418-44b1-c0eb-44fc9a452e91"
   },
   "outputs": [
    {
     "data": {
      "text/plain": [
       "array([ 5, 10, 15])"
      ]
     },
     "execution_count": 39,
     "metadata": {},
     "output_type": "execute_result"
    }
   ],
   "source": [
    "np.apply_along_axis(np.max, 1, arr2d)"
   ]
  },
  {
   "cell_type": "code",
   "execution_count": null,
   "metadata": {
    "id": "pu8bTfZPIwLU",
    "outputId": "e17a3097-964f-41d1-ab1e-6ff53860ddd6"
   },
   "outputs": [
    {
     "data": {
      "text/plain": [
       "array([[ 5,  4,  3,  2,  1],\n",
       "       [10,  9,  8,  7,  6],\n",
       "       [15, 14, 13, 12, 11]])"
      ]
     },
     "execution_count": 40,
     "metadata": {},
     "output_type": "execute_result"
    }
   ],
   "source": [
    "np.apply_along_axis(lambda x: x[::-1], 1, arr2d)"
   ]
  },
  {
   "cell_type": "markdown",
   "metadata": {
    "id": "de0PwahqIwLV"
   },
   "source": [
    "## Модуль pandas"
   ]
  },
  {
   "cell_type": "markdown",
   "metadata": {
    "id": "Bq3tV2O5IwLV"
   },
   "source": [
    "Данный пакет делает Python мощным инструментом для анализа данных. Пакет дает возможность строить сводные таблицы, выполнять группировки, предоставляет удобный доступ к табличным данным, а при наличии пакета matplotlib дает возможность рисовать графики на полученных наборах данных (об этом в следующей лабораторной работе).\n",
    "\n",
    "Общепринятым способом краткого наименования этого модуля является **pd**. Всю документацию по этому модулю, а также примеры его использования можно найти на [официальном сайте](https://pandas.pydata.org/docs/ \"pandas.pydata.org\")."
   ]
  },
  {
   "cell_type": "code",
   "execution_count": null,
   "metadata": {
    "id": "VfuPhlkoIwLW"
   },
   "outputs": [],
   "source": [
    "import pandas as pd"
   ]
  },
  {
   "cell_type": "markdown",
   "metadata": {
    "id": "r4euhqTIIwLW"
   },
   "source": [
    "Этот модуль используется для эффективной работы с таблицами. Базовыми классами являются *Index* (индексы), *Series* (столбцы), *DataFrame* (матрица). Их конструкторы принимают на вход объекты, имеющие логику одномерных массивов (для *Index* и *Series*) или же двумерных массивов (для *DataFrame*)."
   ]
  },
  {
   "cell_type": "markdown",
   "metadata": {
    "id": "1eXVCrSaIwLX"
   },
   "source": [
    "### Класс Index"
   ]
  },
  {
   "cell_type": "markdown",
   "metadata": {
    "id": "2oTe57lOIwLX"
   },
   "source": [
    "Этот класс описывает индексы и колонки, содержащиеся в табличке. Объекты класса **Index** обладают множеством атрибутов, например, **name**, **size**, **shape**, **values** и др. Атрибут **values** выдает элементы, содержащиеся в объекте, в виде массива **np.array**."
   ]
  },
  {
   "cell_type": "code",
   "execution_count": null,
   "metadata": {
    "id": "yr0-Hq3pIwLY",
    "outputId": "d17b1c68-664c-4e5f-aae9-fa226490b9dd"
   },
   "outputs": [
    {
     "name": "stdout",
     "output_type": "stream",
     "text": [
      "Index(['One', 'Two', 'Three', 'Four', 'Five'], dtype='object', name='numbers')\n",
      "Name:  numbers\n",
      "Shape:  (5,)\n",
      "Values:  ['One' 'Two' 'Three' 'Four' 'Five']\n"
     ]
    }
   ],
   "source": [
    "idx = pd.Index(['One','Two','Three','Four','Five'], name='numbers')\n",
    "print(idx)\n",
    "print('Name: ', idx.name)\n",
    "print('Shape: ', idx.shape)\n",
    "print('Values: ', idx.values)"
   ]
  },
  {
   "cell_type": "markdown",
   "metadata": {
    "id": "9vV6v0fQIwLY"
   },
   "source": [
    "Метод **drop(labels)** возвращает объект **Index** с выкинутыми значениями **labels**. Метод **drop_duplicates(keep)** возвращает объект с уделенными повторяющимися значениями. Если параметр **keep = 'first'**, по сохраняется первое появление повторяющегося значения, если **keep = 'last'**, то сохранияет последнее упоминание. Метод **unique()** возвращает объект с уникальными элементами, т.е. встречающимися только 1 раз. Этот метод аналогичен методу **drop_duplicates()**."
   ]
  },
  {
   "cell_type": "code",
   "execution_count": null,
   "metadata": {
    "id": "TwWZTqAkIwLZ",
    "outputId": "1f7540af-e408-41b4-b3de-4dba6dd3fec0"
   },
   "outputs": [
    {
     "data": {
      "text/plain": [
       "Index(['One', 'Two', 'Three', 'Four', 'Five', 'One', 'Two'], dtype='object', name='numbers')"
      ]
     },
     "execution_count": 43,
     "metadata": {},
     "output_type": "execute_result"
    }
   ],
   "source": [
    "idx = pd.Index(['One','Two','Three','Four','Five','One','Two'], name='numbers')\n",
    "idx"
   ]
  },
  {
   "cell_type": "code",
   "execution_count": null,
   "metadata": {
    "id": "BV-AYGmTIwLZ",
    "outputId": "d4fa1348-debc-4889-e4bb-04219f52dd2a"
   },
   "outputs": [
    {
     "data": {
      "text/plain": [
       "Index(['One', 'Two', 'Three', 'Four', 'Five'], dtype='object', name='numbers')"
      ]
     },
     "execution_count": 44,
     "metadata": {},
     "output_type": "execute_result"
    }
   ],
   "source": [
    "idx = idx.drop_duplicates()\n",
    "idx"
   ]
  },
  {
   "cell_type": "code",
   "execution_count": null,
   "metadata": {
    "id": "F3nh4IaUIwLa",
    "outputId": "cbf887a0-af74-4100-a866-860c6f1e7c7f"
   },
   "outputs": [
    {
     "data": {
      "text/plain": [
       "Index(['Three', 'Four', 'Five'], dtype='object', name='numbers')"
      ]
     },
     "execution_count": 45,
     "metadata": {},
     "output_type": "execute_result"
    }
   ],
   "source": [
    "idx.drop(['One','Two'])"
   ]
  },
  {
   "cell_type": "code",
   "execution_count": null,
   "metadata": {
    "id": "0vLaYlBiIwLa",
    "outputId": "219f48f9-7766-46ff-cfe3-614456ca656e"
   },
   "outputs": [
    {
     "data": {
      "text/plain": [
       "Index(['One', 'Two', 'Three', 'Four', 'Five'], dtype='object', name='numbers')"
      ]
     },
     "execution_count": 46,
     "metadata": {},
     "output_type": "execute_result"
    }
   ],
   "source": [
    "idx.unique()"
   ]
  },
  {
   "cell_type": "markdown",
   "metadata": {
    "id": "Mzw_T9h9IwLb"
   },
   "source": [
    "При желании можно переименовать те или иные элементы в объекте **Index** с помощью метода **reindex(new_labels)**, подав ему на вход новые элементы."
   ]
  },
  {
   "cell_type": "code",
   "execution_count": null,
   "metadata": {
    "id": "bjtFpaHlIwLb",
    "outputId": "30c0e0b1-36b2-4e86-baea-ee39efeee1f3"
   },
   "outputs": [
    {
     "data": {
      "text/plain": [
       "(Index(['NewOne', 'NewTwo', 'NewThree', 'NewFour'], dtype='object', name='numbers'),\n",
       " array([-1, -1, -1, -1], dtype=int64))"
      ]
     },
     "execution_count": 47,
     "metadata": {},
     "output_type": "execute_result"
    }
   ],
   "source": [
    "idx.reindex(['NewOne','NewTwo','NewThree','NewFour'])"
   ]
  },
  {
   "cell_type": "markdown",
   "metadata": {
    "id": "-QqNMH0vIwLc"
   },
   "source": [
    "### Класс Series"
   ]
  },
  {
   "cell_type": "markdown",
   "metadata": {
    "id": "dfpuBRkGIwLc"
   },
   "source": [
    "Этот класс представляет собой реализацию одномерного массива с множеством различных методов и атрибутов. Конструктор класса принимает на вход данные в виде массива, индексы (в виде массива или объекта класса **Index**), имя объекта. У класса **Series** довольно много атрибутов. Вот некоторые их них: **name**, **values**, **size**, **index** и др."
   ]
  },
  {
   "cell_type": "code",
   "execution_count": null,
   "metadata": {
    "id": "S2Mp3A7DIwLc",
    "outputId": "4b705347-69e3-41bc-e8d7-72c51a97372f"
   },
   "outputs": [
    {
     "data": {
      "text/plain": [
       "100     0\n",
       "102     1\n",
       "104     2\n",
       "106     3\n",
       "108     4\n",
       "       ..\n",
       "290    95\n",
       "292    96\n",
       "294    97\n",
       "296    98\n",
       "298    99\n",
       "Name: numbers, Length: 100, dtype: int32"
      ]
     },
     "execution_count": 48,
     "metadata": {},
     "output_type": "execute_result"
    }
   ],
   "source": [
    "ser = pd.Series(np.arange(0,100,1), name='numbers', index=np.arange(100,300,2))\n",
    "ser"
   ]
  },
  {
   "cell_type": "markdown",
   "metadata": {
    "id": "MISRk2eCIwLd"
   },
   "source": [
    "Сменить тип данных можно с помощью метода **astype(new_type)**, который по определению возвращает копию объекта."
   ]
  },
  {
   "cell_type": "code",
   "execution_count": null,
   "metadata": {
    "id": "QCfbU7-iIwLd",
    "outputId": "d4b0d9e1-a0d0-45f5-c865-6ba2a4afea2a"
   },
   "outputs": [
    {
     "data": {
      "text/plain": [
       "100     0.0\n",
       "102     1.0\n",
       "104     2.0\n",
       "106     3.0\n",
       "108     4.0\n",
       "       ... \n",
       "290    95.0\n",
       "292    96.0\n",
       "294    97.0\n",
       "296    98.0\n",
       "298    99.0\n",
       "Name: numbers, Length: 100, dtype: float32"
      ]
     },
     "execution_count": 49,
     "metadata": {},
     "output_type": "execute_result"
    }
   ],
   "source": [
    "ser.astype(np.float32)"
   ]
  },
  {
   "cell_type": "markdown",
   "metadata": {
    "id": "gkyKFGxAIwLe"
   },
   "source": [
    "Индексирование одного элемента можно проводить подобно обычному массиву, однако в квадратных скобках надо указать именно значение элемента из **Index**, а не порядковый номер элемента. Для того, чтобы получить *slice*, то есть получить какую-то часть объекта, нужно использовать метод **loc[a,b,c]**. Его функционал полностью аналогичен индексированию массивов **numpy**, c той лишь разницей, что элемент с индексом **b** включается."
   ]
  },
  {
   "cell_type": "code",
   "execution_count": null,
   "metadata": {
    "id": "Vqfdll4JIwLe",
    "outputId": "b36c7f9f-e0b2-4eed-995f-e902e4810f6a"
   },
   "outputs": [
    {
     "data": {
      "text/plain": [
       "0"
      ]
     },
     "execution_count": 50,
     "metadata": {},
     "output_type": "execute_result"
    }
   ],
   "source": [
    "ser[100]"
   ]
  },
  {
   "cell_type": "code",
   "execution_count": null,
   "metadata": {
    "id": "zrFrqy7cIwLf",
    "outputId": "ef987fdb-6fa3-4511-8cf8-3425e95156bf"
   },
   "outputs": [
    {
     "data": {
      "text/plain": [
       "100     0\n",
       "102     1\n",
       "104     2\n",
       "106     3\n",
       "108     4\n",
       "110     5\n",
       "112     6\n",
       "114     7\n",
       "116     8\n",
       "118     9\n",
       "120    10\n",
       "Name: numbers, dtype: int32"
      ]
     },
     "execution_count": 51,
     "metadata": {},
     "output_type": "execute_result"
    }
   ],
   "source": [
    "ser.loc[100:120]"
   ]
  },
  {
   "cell_type": "code",
   "execution_count": null,
   "metadata": {
    "id": "9y5uQFqcIwLf",
    "outputId": "a71d69c0-507c-4071-b495-1a507b4e4cc4"
   },
   "outputs": [
    {
     "data": {
      "text/plain": [
       "100     0\n",
       "104     2\n",
       "108     4\n",
       "112     6\n",
       "116     8\n",
       "120    10\n",
       "Name: numbers, dtype: int32"
      ]
     },
     "execution_count": 52,
     "metadata": {},
     "output_type": "execute_result"
    }
   ],
   "source": [
    "ser.loc[100:120:2]"
   ]
  },
  {
   "cell_type": "markdown",
   "metadata": {
    "id": "Ab0cMYb6IwLg"
   },
   "source": [
    "Если же нужно получить *slice* на основе порядковых номеров элементов, то используется метод **iloc[a:b:c]**. Работает он аналогично методу **loc[a:b:c]**, с той лишь разницей, что индекс с номером **b** не включается."
   ]
  },
  {
   "cell_type": "code",
   "execution_count": null,
   "metadata": {
    "id": "03RSgCneIwLg",
    "outputId": "4c47de1f-074f-4258-bd29-0fb3361ea11b"
   },
   "outputs": [
    {
     "data": {
      "text/plain": [
       "100    0\n",
       "102    1\n",
       "104    2\n",
       "106    3\n",
       "108    4\n",
       "110    5\n",
       "112    6\n",
       "114    7\n",
       "116    8\n",
       "118    9\n",
       "Name: numbers, dtype: int32"
      ]
     },
     "execution_count": 53,
     "metadata": {},
     "output_type": "execute_result"
    }
   ],
   "source": [
    "ser.iloc[0:10]"
   ]
  },
  {
   "cell_type": "markdown",
   "metadata": {
    "id": "c-xVk2dOIwLh"
   },
   "source": [
    "Полезным бывает итерирование по всем парам (индекс, значение) с помощью метода **iteritems()**."
   ]
  },
  {
   "cell_type": "code",
   "execution_count": null,
   "metadata": {
    "id": "f1KkGWmRIwLh",
    "outputId": "3088a880-214e-4ae5-8c7d-eda5a3d551dd"
   },
   "outputs": [
    {
     "name": "stdout",
     "output_type": "stream",
     "text": [
      "Index: 100 , Value: 0\n",
      "Index: 102 , Value: 1\n",
      "Index: 104 , Value: 2\n",
      "Index: 106 , Value: 3\n",
      "Index: 108 , Value: 4\n",
      "Index: 110 , Value: 5\n",
      "Index: 112 , Value: 6\n",
      "Index: 114 , Value: 7\n",
      "Index: 116 , Value: 8\n",
      "Index: 118 , Value: 9\n"
     ]
    }
   ],
   "source": [
    "for index, value in ser.iloc[:10].iteritems():\n",
    "    print('Index:', index, ', Value:', value)"
   ]
  },
  {
   "cell_type": "markdown",
   "metadata": {
    "id": "9lovThHFIwLh"
   },
   "source": [
    "**Series** имеет широким набором векторных операций: сложение **add()**, вычитание **sub()**, умножение **mul()**, деление **div()**, округление **round()**, возведение в степень **pow()**, операций сравнения: меньше **lt()**, больше **gt()**, меньши или равно **le()**, больше или равно **ge()**, не равен **ne()**, равен **eq()** и др."
   ]
  },
  {
   "cell_type": "code",
   "execution_count": null,
   "metadata": {
    "id": "9MT6BJDpIwLi",
    "outputId": "07b3e643-f58a-404f-f73c-0e424f4b6f60"
   },
   "outputs": [
    {
     "data": {
      "text/plain": [
       "100      0\n",
       "102      2\n",
       "104      4\n",
       "106      6\n",
       "108      8\n",
       "      ... \n",
       "290    190\n",
       "292    192\n",
       "294    194\n",
       "296    196\n",
       "298    198\n",
       "Name: numbers, Length: 100, dtype: int32"
      ]
     },
     "execution_count": 55,
     "metadata": {},
     "output_type": "execute_result"
    }
   ],
   "source": [
    "ser.add(ser)"
   ]
  },
  {
   "cell_type": "code",
   "execution_count": null,
   "metadata": {
    "id": "3XcNb0jEIwLi",
    "outputId": "8098bf37-0d12-4d3a-f830-f8ee23bdcdea"
   },
   "outputs": [
    {
     "data": {
      "text/plain": [
       "100    NaN\n",
       "102    1.0\n",
       "104    1.0\n",
       "106    1.0\n",
       "108    1.0\n",
       "      ... \n",
       "290    1.0\n",
       "292    1.0\n",
       "294    1.0\n",
       "296    1.0\n",
       "298    1.0\n",
       "Name: numbers, Length: 100, dtype: float64"
      ]
     },
     "execution_count": 56,
     "metadata": {},
     "output_type": "execute_result"
    }
   ],
   "source": [
    "ser / ser"
   ]
  },
  {
   "cell_type": "code",
   "execution_count": null,
   "metadata": {
    "id": "lhR1rYSBIwLi",
    "outputId": "f1a26d0b-c363-43e1-bd85-f15d82c40736"
   },
   "outputs": [
    {
     "data": {
      "text/plain": [
       "100       0.000000\n",
       "102       1.000000\n",
       "104       2.028203\n",
       "106       3.101555\n",
       "108       4.230441\n",
       "          ...     \n",
       "290    7508.257976\n",
       "292    8025.528491\n",
       "294    8578.407365\n",
       "296    9169.354356\n",
       "298    9801.000000\n",
       "Length: 100, dtype: float64"
      ]
     },
     "execution_count": 57,
     "metadata": {},
     "output_type": "execute_result"
    }
   ],
   "source": [
    "ser1 = ser.pow(np.linspace(1,2,len(ser)))\n",
    "ser1"
   ]
  },
  {
   "cell_type": "code",
   "execution_count": null,
   "metadata": {
    "id": "mkcQlADXIwLj",
    "outputId": "b6299ddd-d4db-4500-8e19-3286c412aa16"
   },
   "outputs": [
    {
     "data": {
      "text/plain": [
       "100       0.00\n",
       "102       1.00\n",
       "104       2.03\n",
       "106       3.10\n",
       "108       4.23\n",
       "        ...   \n",
       "290    7508.26\n",
       "292    8025.53\n",
       "294    8578.41\n",
       "296    9169.35\n",
       "298    9801.00\n",
       "Length: 100, dtype: float64"
      ]
     },
     "execution_count": 58,
     "metadata": {},
     "output_type": "execute_result"
    }
   ],
   "source": [
    "ser1.round(2)"
   ]
  },
  {
   "cell_type": "code",
   "execution_count": null,
   "metadata": {
    "id": "O-OdwiB8IwLj",
    "outputId": "9b2814e2-661e-4d73-c6d8-5b0fd0909501"
   },
   "outputs": [
    {
     "data": {
      "text/plain": [
       "100    False\n",
       "102    False\n",
       "104    False\n",
       "106    False\n",
       "108    False\n",
       "       ...  \n",
       "290    False\n",
       "292    False\n",
       "294    False\n",
       "296    False\n",
       "298    False\n",
       "Name: numbers, Length: 100, dtype: bool"
      ]
     },
     "execution_count": 59,
     "metadata": {},
     "output_type": "execute_result"
    }
   ],
   "source": [
    "ser.lt(-ser)"
   ]
  },
  {
   "cell_type": "markdown",
   "metadata": {
    "id": "kjOBpC2LIwLj"
   },
   "source": [
    "Также у класса **Series** есть много статистических функций **mean()**, **max()**, **min()**, **skew()**, **kurtosis()** и др. Значения некоторых статистических функций можно получить с помощью метода **describe()**."
   ]
  },
  {
   "cell_type": "code",
   "execution_count": null,
   "metadata": {
    "id": "1eZsGN-GIwLk",
    "outputId": "ad7c75b0-a771-4d7c-dc92-9482187af967"
   },
   "outputs": [
    {
     "data": {
      "text/plain": [
       "count    100.000000\n",
       "mean      49.500000\n",
       "std       29.011492\n",
       "min        0.000000\n",
       "25%       24.750000\n",
       "50%       49.500000\n",
       "75%       74.250000\n",
       "max       99.000000\n",
       "Name: numbers, dtype: float64"
      ]
     },
     "execution_count": 60,
     "metadata": {},
     "output_type": "execute_result"
    }
   ],
   "source": [
    "ser.describe()"
   ]
  },
  {
   "cell_type": "markdown",
   "metadata": {
    "id": "ISYSeFwzIwLk"
   },
   "source": [
    "Заполнение пропущенных значений производится с помощью метода **fillna()**, при этом параметр **inplace** позволяет выполнять заполнение исходного объекта, а не создавать его копию. Аналогично работает метод **replace()**, который позволяет заменить одни значения на другие. Для этого в него надо передать словарь, в котором старые значения являются ключами, а новые - значениями."
   ]
  },
  {
   "cell_type": "code",
   "execution_count": null,
   "metadata": {
    "id": "k1VnPh8wIwLk",
    "outputId": "9ecb8feb-9f6e-4e96-a7c9-84c02967ae37"
   },
   "outputs": [
    {
     "data": {
      "text/plain": [
       "0    1.0\n",
       "1    2.0\n",
       "2    3.0\n",
       "3    NaN\n",
       "4    5.0\n",
       "5    6.0\n",
       "6    7.0\n",
       "7    NaN\n",
       "dtype: float64"
      ]
     },
     "execution_count": 61,
     "metadata": {},
     "output_type": "execute_result"
    }
   ],
   "source": [
    "ser = pd.Series([1,2,3,np.nan,5,6,7,np.nan])\n",
    "ser"
   ]
  },
  {
   "cell_type": "code",
   "execution_count": null,
   "metadata": {
    "id": "ad1ChupvIwLl",
    "outputId": "924efee7-aa01-436d-f51a-4e8e2a850bad"
   },
   "outputs": [
    {
     "data": {
      "text/plain": [
       "0     1.0\n",
       "1     2.0\n",
       "2     3.0\n",
       "3    10.0\n",
       "4     5.0\n",
       "5     6.0\n",
       "6     7.0\n",
       "7    10.0\n",
       "dtype: float64"
      ]
     },
     "execution_count": 62,
     "metadata": {},
     "output_type": "execute_result"
    }
   ],
   "source": [
    "ser.fillna(10)"
   ]
  },
  {
   "cell_type": "code",
   "execution_count": null,
   "metadata": {
    "id": "SRMVk-jHIwLl",
    "outputId": "143548a1-d4f4-45c0-d6e4-978ac1d81da4"
   },
   "outputs": [
    {
     "data": {
      "text/plain": [
       "0    1.0\n",
       "1    2.0\n",
       "2    3.0\n",
       "3    4.0\n",
       "4    5.0\n",
       "5    6.0\n",
       "6    7.0\n",
       "7    4.0\n",
       "dtype: float64"
      ]
     },
     "execution_count": 63,
     "metadata": {},
     "output_type": "execute_result"
    }
   ],
   "source": [
    "ser.fillna(10, inplace=True)\n",
    "ser.replace({10:4}, inplace=True)\n",
    "ser"
   ]
  },
  {
   "cell_type": "markdown",
   "metadata": {
    "id": "s5rvyE7RIwLl"
   },
   "source": [
    "Объединение нескольких объектов **Series** производится с помощью метода **append()**. Если параметр **ignore_index = True**, то индексы в итоговом объекте будут от 0 до максимального индекса. Если же **ignore_index = False**, то сохранятся индексы исходных объектов."
   ]
  },
  {
   "cell_type": "code",
   "execution_count": null,
   "metadata": {
    "id": "g8SxKp_vIwLm",
    "outputId": "e455345e-be80-4f02-ed9e-39aa8bcfaf9d"
   },
   "outputs": [
    {
     "data": {
      "text/plain": [
       "0    1\n",
       "1    1\n",
       "2    1\n",
       "0    2\n",
       "1    2\n",
       "2    2\n",
       "dtype: int64"
      ]
     },
     "execution_count": 64,
     "metadata": {},
     "output_type": "execute_result"
    }
   ],
   "source": [
    "ser1 = pd.Series([1,1,1])\n",
    "ser2 = pd.Series([2,2,2])\n",
    "ser1.append(ser2, ignore_index = False)"
   ]
  },
  {
   "cell_type": "code",
   "execution_count": null,
   "metadata": {
    "id": "oaBH2Zj4IwLm",
    "outputId": "51c4cab5-bd85-4e74-d6a2-1c62c823cb9d"
   },
   "outputs": [
    {
     "data": {
      "text/plain": [
       "0    1\n",
       "1    1\n",
       "2    1\n",
       "3    2\n",
       "4    2\n",
       "5    2\n",
       "dtype: int64"
      ]
     },
     "execution_count": 65,
     "metadata": {},
     "output_type": "execute_result"
    }
   ],
   "source": [
    "ser1.append(ser2, ignore_index = True)"
   ]
  },
  {
   "cell_type": "markdown",
   "metadata": {
    "id": "Kgii2IakIwLm"
   },
   "source": [
    "### Класс DataFrame"
   ]
  },
  {
   "cell_type": "markdown",
   "metadata": {
    "id": "n93ZGVRUIwLn"
   },
   "source": [
    "Класс **Series** описывает структуру таблиц. Каждая колонка является объектом класса **Series**, а названия колонок и индексы - объектами класса **Index**. Функционал этого класса почти полностью совпадает с функционалом класса **Series**. Перечислим основные возможности по работе с таблицами, предоставляемые классом **DataFrame**. Конструктор принимает на себя данные, имеющие логическую структуру двумерного массива: двумерный массив, список списков, кортеж из списков, словарь. В последнем случае ключи словаря будут являться названиями колонок. Также в конструктор можно передать непосредственно названия колонок и индексов, а также тип данных."
   ]
  },
  {
   "cell_type": "code",
   "execution_count": null,
   "metadata": {
    "id": "cHCOllPDIwLn",
    "outputId": "2fb7ad1f-85d4-4479-e295-40d24d84a895"
   },
   "outputs": [
    {
     "data": {
      "text/html": [
       "<div>\n",
       "<style scoped>\n",
       "    .dataframe tbody tr th:only-of-type {\n",
       "        vertical-align: middle;\n",
       "    }\n",
       "\n",
       "    .dataframe tbody tr th {\n",
       "        vertical-align: top;\n",
       "    }\n",
       "\n",
       "    .dataframe thead th {\n",
       "        text-align: right;\n",
       "    }\n",
       "</style>\n",
       "<table border=\"1\" class=\"dataframe\">\n",
       "  <thead>\n",
       "    <tr style=\"text-align: right;\">\n",
       "      <th></th>\n",
       "      <th>one</th>\n",
       "      <th>two</th>\n",
       "      <th>three</th>\n",
       "      <th>four</th>\n",
       "      <th>five</th>\n",
       "    </tr>\n",
       "  </thead>\n",
       "  <tbody>\n",
       "    <tr>\n",
       "      <th>0</th>\n",
       "      <td>0.5</td>\n",
       "      <td>0.5</td>\n",
       "      <td>0.5</td>\n",
       "      <td>0.5</td>\n",
       "      <td>0.5</td>\n",
       "    </tr>\n",
       "    <tr>\n",
       "      <th>1</th>\n",
       "      <td>0.5</td>\n",
       "      <td>0.5</td>\n",
       "      <td>0.5</td>\n",
       "      <td>0.5</td>\n",
       "      <td>0.5</td>\n",
       "    </tr>\n",
       "    <tr>\n",
       "      <th>2</th>\n",
       "      <td>0.5</td>\n",
       "      <td>0.5</td>\n",
       "      <td>0.5</td>\n",
       "      <td>0.5</td>\n",
       "      <td>0.5</td>\n",
       "    </tr>\n",
       "    <tr>\n",
       "      <th>3</th>\n",
       "      <td>0.5</td>\n",
       "      <td>0.5</td>\n",
       "      <td>0.5</td>\n",
       "      <td>0.5</td>\n",
       "      <td>0.5</td>\n",
       "    </tr>\n",
       "  </tbody>\n",
       "</table>\n",
       "</div>"
      ],
      "text/plain": [
       "   one  two  three  four  five\n",
       "0  0.5  0.5    0.5   0.5   0.5\n",
       "1  0.5  0.5    0.5   0.5   0.5\n",
       "2  0.5  0.5    0.5   0.5   0.5\n",
       "3  0.5  0.5    0.5   0.5   0.5"
      ]
     },
     "execution_count": 66,
     "metadata": {},
     "output_type": "execute_result"
    }
   ],
   "source": [
    "dt = pd.DataFrame(np.ones(shape=(4,5))/2., columns=['one','two','three','four','five'])\n",
    "dt"
   ]
  },
  {
   "cell_type": "code",
   "execution_count": null,
   "metadata": {
    "id": "0fkLOuOAIwLo",
    "outputId": "4e53db6b-144b-45f9-aa99-64a498ace6e3"
   },
   "outputs": [
    {
     "data": {
      "text/html": [
       "<div>\n",
       "<style scoped>\n",
       "    .dataframe tbody tr th:only-of-type {\n",
       "        vertical-align: middle;\n",
       "    }\n",
       "\n",
       "    .dataframe tbody tr th {\n",
       "        vertical-align: top;\n",
       "    }\n",
       "\n",
       "    .dataframe thead th {\n",
       "        text-align: right;\n",
       "    }\n",
       "</style>\n",
       "<table border=\"1\" class=\"dataframe\">\n",
       "  <thead>\n",
       "    <tr style=\"text-align: right;\">\n",
       "      <th></th>\n",
       "      <th>one</th>\n",
       "      <th>two</th>\n",
       "      <th>three</th>\n",
       "      <th>four</th>\n",
       "      <th>five</th>\n",
       "    </tr>\n",
       "  </thead>\n",
       "  <tbody>\n",
       "    <tr>\n",
       "      <th>0</th>\n",
       "      <td>1.0</td>\n",
       "      <td>2.0</td>\n",
       "      <td>3.0</td>\n",
       "      <td>4.0</td>\n",
       "      <td>5.0</td>\n",
       "    </tr>\n",
       "    <tr>\n",
       "      <th>1</th>\n",
       "      <td>1.0</td>\n",
       "      <td>2.0</td>\n",
       "      <td>3.0</td>\n",
       "      <td>4.0</td>\n",
       "      <td>5.0</td>\n",
       "    </tr>\n",
       "    <tr>\n",
       "      <th>2</th>\n",
       "      <td>1.0</td>\n",
       "      <td>2.0</td>\n",
       "      <td>3.0</td>\n",
       "      <td>4.0</td>\n",
       "      <td>5.0</td>\n",
       "    </tr>\n",
       "    <tr>\n",
       "      <th>3</th>\n",
       "      <td>1.0</td>\n",
       "      <td>2.0</td>\n",
       "      <td>3.0</td>\n",
       "      <td>4.0</td>\n",
       "      <td>5.0</td>\n",
       "    </tr>\n",
       "    <tr>\n",
       "      <th>4</th>\n",
       "      <td>1.0</td>\n",
       "      <td>2.0</td>\n",
       "      <td>3.0</td>\n",
       "      <td>4.0</td>\n",
       "      <td>5.0</td>\n",
       "    </tr>\n",
       "  </tbody>\n",
       "</table>\n",
       "</div>"
      ],
      "text/plain": [
       "   one  two  three  four  five\n",
       "0  1.0  2.0    3.0   4.0   5.0\n",
       "1  1.0  2.0    3.0   4.0   5.0\n",
       "2  1.0  2.0    3.0   4.0   5.0\n",
       "3  1.0  2.0    3.0   4.0   5.0\n",
       "4  1.0  2.0    3.0   4.0   5.0"
      ]
     },
     "execution_count": 67,
     "metadata": {},
     "output_type": "execute_result"
    }
   ],
   "source": [
    "dt = pd.DataFrame({'one':[1]*5,\n",
    "                  'two':[2]*5,\n",
    "                  'three':[3]*5,\n",
    "                   'four':[4]*5,\n",
    "                   'five':[5]*5},\n",
    "                 dtype=np.float32)\n",
    "dt"
   ]
  },
  {
   "cell_type": "markdown",
   "metadata": {
    "id": "bHXqiFH9IwLo"
   },
   "source": [
    "Информацию о количестве строк и столбцов, о типах данных можно получить с помощью метода **info()**. Статистику по колонкам можно получить с помощью метода **describe()**."
   ]
  },
  {
   "cell_type": "code",
   "execution_count": null,
   "metadata": {
    "id": "CjpisljVIwLo",
    "outputId": "3d0b9c0d-66e6-4e36-92ae-4ea571c82c5c"
   },
   "outputs": [
    {
     "name": "stdout",
     "output_type": "stream",
     "text": [
      "<class 'pandas.core.frame.DataFrame'>\n",
      "RangeIndex: 5 entries, 0 to 4\n",
      "Data columns (total 5 columns):\n",
      " #   Column  Non-Null Count  Dtype  \n",
      "---  ------  --------------  -----  \n",
      " 0   one     5 non-null      float32\n",
      " 1   two     5 non-null      float32\n",
      " 2   three   5 non-null      float32\n",
      " 3   four    5 non-null      float32\n",
      " 4   five    5 non-null      float32\n",
      "dtypes: float32(5)\n",
      "memory usage: 228.0 bytes\n"
     ]
    }
   ],
   "source": [
    "dt.info()"
   ]
  },
  {
   "cell_type": "code",
   "execution_count": null,
   "metadata": {
    "id": "5T5seg0bIwLp",
    "outputId": "02f7f3ab-3257-43ec-9842-f77efaadf018"
   },
   "outputs": [
    {
     "data": {
      "text/html": [
       "<div>\n",
       "<style scoped>\n",
       "    .dataframe tbody tr th:only-of-type {\n",
       "        vertical-align: middle;\n",
       "    }\n",
       "\n",
       "    .dataframe tbody tr th {\n",
       "        vertical-align: top;\n",
       "    }\n",
       "\n",
       "    .dataframe thead th {\n",
       "        text-align: right;\n",
       "    }\n",
       "</style>\n",
       "<table border=\"1\" class=\"dataframe\">\n",
       "  <thead>\n",
       "    <tr style=\"text-align: right;\">\n",
       "      <th></th>\n",
       "      <th>one</th>\n",
       "      <th>two</th>\n",
       "      <th>three</th>\n",
       "      <th>four</th>\n",
       "      <th>five</th>\n",
       "    </tr>\n",
       "  </thead>\n",
       "  <tbody>\n",
       "    <tr>\n",
       "      <th>count</th>\n",
       "      <td>5.0</td>\n",
       "      <td>5.0</td>\n",
       "      <td>5.0</td>\n",
       "      <td>5.0</td>\n",
       "      <td>5.0</td>\n",
       "    </tr>\n",
       "    <tr>\n",
       "      <th>mean</th>\n",
       "      <td>1.0</td>\n",
       "      <td>2.0</td>\n",
       "      <td>3.0</td>\n",
       "      <td>4.0</td>\n",
       "      <td>5.0</td>\n",
       "    </tr>\n",
       "    <tr>\n",
       "      <th>std</th>\n",
       "      <td>0.0</td>\n",
       "      <td>0.0</td>\n",
       "      <td>0.0</td>\n",
       "      <td>0.0</td>\n",
       "      <td>0.0</td>\n",
       "    </tr>\n",
       "    <tr>\n",
       "      <th>min</th>\n",
       "      <td>1.0</td>\n",
       "      <td>2.0</td>\n",
       "      <td>3.0</td>\n",
       "      <td>4.0</td>\n",
       "      <td>5.0</td>\n",
       "    </tr>\n",
       "    <tr>\n",
       "      <th>25%</th>\n",
       "      <td>1.0</td>\n",
       "      <td>2.0</td>\n",
       "      <td>3.0</td>\n",
       "      <td>4.0</td>\n",
       "      <td>5.0</td>\n",
       "    </tr>\n",
       "    <tr>\n",
       "      <th>50%</th>\n",
       "      <td>1.0</td>\n",
       "      <td>2.0</td>\n",
       "      <td>3.0</td>\n",
       "      <td>4.0</td>\n",
       "      <td>5.0</td>\n",
       "    </tr>\n",
       "    <tr>\n",
       "      <th>75%</th>\n",
       "      <td>1.0</td>\n",
       "      <td>2.0</td>\n",
       "      <td>3.0</td>\n",
       "      <td>4.0</td>\n",
       "      <td>5.0</td>\n",
       "    </tr>\n",
       "    <tr>\n",
       "      <th>max</th>\n",
       "      <td>1.0</td>\n",
       "      <td>2.0</td>\n",
       "      <td>3.0</td>\n",
       "      <td>4.0</td>\n",
       "      <td>5.0</td>\n",
       "    </tr>\n",
       "  </tbody>\n",
       "</table>\n",
       "</div>"
      ],
      "text/plain": [
       "       one  two  three  four  five\n",
       "count  5.0  5.0    5.0   5.0   5.0\n",
       "mean   1.0  2.0    3.0   4.0   5.0\n",
       "std    0.0  0.0    0.0   0.0   0.0\n",
       "min    1.0  2.0    3.0   4.0   5.0\n",
       "25%    1.0  2.0    3.0   4.0   5.0\n",
       "50%    1.0  2.0    3.0   4.0   5.0\n",
       "75%    1.0  2.0    3.0   4.0   5.0\n",
       "max    1.0  2.0    3.0   4.0   5.0"
      ]
     },
     "execution_count": 69,
     "metadata": {},
     "output_type": "execute_result"
    }
   ],
   "source": [
    "dt.describe()"
   ]
  },
  {
   "cell_type": "markdown",
   "metadata": {
    "id": "GE7TPfVbIwLp"
   },
   "source": [
    "Если требуется посмотреть на несколько строк таблицы, то применяется метод **head(n)**, возвращающий первые **n** строк. Если **n** не задано, то оно полагается равным 5. Этот метод особенно полезен, если требуется увидеть структуру таблицы, а данных очень много. Также есть метод **tail(n)**, который позволяет увидеть последние **n** строк таблицы."
   ]
  },
  {
   "cell_type": "code",
   "execution_count": null,
   "metadata": {
    "id": "sqDRpzARIwLp",
    "outputId": "f4095f0f-631b-4e73-d2bd-9884746d8a07"
   },
   "outputs": [
    {
     "data": {
      "text/html": [
       "<div>\n",
       "<style scoped>\n",
       "    .dataframe tbody tr th:only-of-type {\n",
       "        vertical-align: middle;\n",
       "    }\n",
       "\n",
       "    .dataframe tbody tr th {\n",
       "        vertical-align: top;\n",
       "    }\n",
       "\n",
       "    .dataframe thead th {\n",
       "        text-align: right;\n",
       "    }\n",
       "</style>\n",
       "<table border=\"1\" class=\"dataframe\">\n",
       "  <thead>\n",
       "    <tr style=\"text-align: right;\">\n",
       "      <th></th>\n",
       "      <th>one</th>\n",
       "      <th>two</th>\n",
       "      <th>three</th>\n",
       "      <th>four</th>\n",
       "      <th>five</th>\n",
       "    </tr>\n",
       "  </thead>\n",
       "  <tbody>\n",
       "    <tr>\n",
       "      <th>0</th>\n",
       "      <td>1.0</td>\n",
       "      <td>2.0</td>\n",
       "      <td>3.0</td>\n",
       "      <td>4.0</td>\n",
       "      <td>5.0</td>\n",
       "    </tr>\n",
       "    <tr>\n",
       "      <th>1</th>\n",
       "      <td>1.0</td>\n",
       "      <td>2.0</td>\n",
       "      <td>3.0</td>\n",
       "      <td>4.0</td>\n",
       "      <td>5.0</td>\n",
       "    </tr>\n",
       "    <tr>\n",
       "      <th>2</th>\n",
       "      <td>1.0</td>\n",
       "      <td>2.0</td>\n",
       "      <td>3.0</td>\n",
       "      <td>4.0</td>\n",
       "      <td>5.0</td>\n",
       "    </tr>\n",
       "  </tbody>\n",
       "</table>\n",
       "</div>"
      ],
      "text/plain": [
       "   one  two  three  four  five\n",
       "0  1.0  2.0    3.0   4.0   5.0\n",
       "1  1.0  2.0    3.0   4.0   5.0\n",
       "2  1.0  2.0    3.0   4.0   5.0"
      ]
     },
     "execution_count": 70,
     "metadata": {},
     "output_type": "execute_result"
    }
   ],
   "source": [
    "dt.head(3)"
   ]
  },
  {
   "cell_type": "markdown",
   "metadata": {
    "id": "RxQE6yrKIwLq"
   },
   "source": [
    "Изменить тип данных одной или нескольких колонок можно с помощью метода **astype(dict)**, в словаре **dict** можно определить, к какому типу нужно привести какую колонку. Метод возвращает измененную копию таблицы."
   ]
  },
  {
   "cell_type": "code",
   "execution_count": null,
   "metadata": {
    "id": "ekzmsf30IwLq",
    "outputId": "a572f206-20cd-45e1-debc-2720f7d405dd"
   },
   "outputs": [
    {
     "data": {
      "text/html": [
       "<div>\n",
       "<style scoped>\n",
       "    .dataframe tbody tr th:only-of-type {\n",
       "        vertical-align: middle;\n",
       "    }\n",
       "\n",
       "    .dataframe tbody tr th {\n",
       "        vertical-align: top;\n",
       "    }\n",
       "\n",
       "    .dataframe thead th {\n",
       "        text-align: right;\n",
       "    }\n",
       "</style>\n",
       "<table border=\"1\" class=\"dataframe\">\n",
       "  <thead>\n",
       "    <tr style=\"text-align: right;\">\n",
       "      <th></th>\n",
       "      <th>one</th>\n",
       "      <th>two</th>\n",
       "      <th>three</th>\n",
       "      <th>four</th>\n",
       "      <th>five</th>\n",
       "    </tr>\n",
       "  </thead>\n",
       "  <tbody>\n",
       "    <tr>\n",
       "      <th>0</th>\n",
       "      <td>1</td>\n",
       "      <td>2.0</td>\n",
       "      <td>True</td>\n",
       "      <td>4.0</td>\n",
       "      <td>5.0</td>\n",
       "    </tr>\n",
       "    <tr>\n",
       "      <th>1</th>\n",
       "      <td>1</td>\n",
       "      <td>2.0</td>\n",
       "      <td>True</td>\n",
       "      <td>4.0</td>\n",
       "      <td>5.0</td>\n",
       "    </tr>\n",
       "    <tr>\n",
       "      <th>2</th>\n",
       "      <td>1</td>\n",
       "      <td>2.0</td>\n",
       "      <td>True</td>\n",
       "      <td>4.0</td>\n",
       "      <td>5.0</td>\n",
       "    </tr>\n",
       "  </tbody>\n",
       "</table>\n",
       "</div>"
      ],
      "text/plain": [
       "   one  two  three  four  five\n",
       "0    1  2.0   True   4.0   5.0\n",
       "1    1  2.0   True   4.0   5.0\n",
       "2    1  2.0   True   4.0   5.0"
      ]
     },
     "execution_count": 71,
     "metadata": {},
     "output_type": "execute_result"
    }
   ],
   "source": [
    "dt.astype({'one':np.int32,'three':np.bool}).head(3)"
   ]
  },
  {
   "cell_type": "markdown",
   "metadata": {
    "id": "nycBetALIwLq"
   },
   "source": [
    "### Индексирование и итерирование"
   ]
  },
  {
   "cell_type": "markdown",
   "metadata": {
    "id": "xhYaoSySIwLq"
   },
   "source": [
    "Индексирование производится аналогично классу **Series** с помощью методов **loc[a1:b1:c1, a2:b2:c2]** и **iloc[a1:b1:c1, a2:b2:c2]**. Отличие состоит в том, что **loc[]** включает в индексирование конечные индексы **b1, b2**, а **iloc[]** нет."
   ]
  },
  {
   "cell_type": "code",
   "execution_count": null,
   "metadata": {
    "id": "Yuif78icIwLr",
    "outputId": "a1065489-7f3e-49a2-eddf-c12c86eb072a"
   },
   "outputs": [
    {
     "data": {
      "text/html": [
       "<div>\n",
       "<style scoped>\n",
       "    .dataframe tbody tr th:only-of-type {\n",
       "        vertical-align: middle;\n",
       "    }\n",
       "\n",
       "    .dataframe tbody tr th {\n",
       "        vertical-align: top;\n",
       "    }\n",
       "\n",
       "    .dataframe thead th {\n",
       "        text-align: right;\n",
       "    }\n",
       "</style>\n",
       "<table border=\"1\" class=\"dataframe\">\n",
       "  <thead>\n",
       "    <tr style=\"text-align: right;\">\n",
       "      <th></th>\n",
       "      <th>two</th>\n",
       "      <th>four</th>\n",
       "    </tr>\n",
       "  </thead>\n",
       "  <tbody>\n",
       "    <tr>\n",
       "      <th>0</th>\n",
       "      <td>2.0</td>\n",
       "      <td>4.0</td>\n",
       "    </tr>\n",
       "    <tr>\n",
       "      <th>1</th>\n",
       "      <td>2.0</td>\n",
       "      <td>4.0</td>\n",
       "    </tr>\n",
       "    <tr>\n",
       "      <th>2</th>\n",
       "      <td>2.0</td>\n",
       "      <td>4.0</td>\n",
       "    </tr>\n",
       "    <tr>\n",
       "      <th>3</th>\n",
       "      <td>2.0</td>\n",
       "      <td>4.0</td>\n",
       "    </tr>\n",
       "  </tbody>\n",
       "</table>\n",
       "</div>"
      ],
      "text/plain": [
       "   two  four\n",
       "0  2.0   4.0\n",
       "1  2.0   4.0\n",
       "2  2.0   4.0\n",
       "3  2.0   4.0"
      ]
     },
     "execution_count": 72,
     "metadata": {},
     "output_type": "execute_result"
    }
   ],
   "source": [
    "dt.loc[:3, 'two'::2]"
   ]
  },
  {
   "cell_type": "code",
   "execution_count": null,
   "metadata": {
    "id": "tQ2JpW39IwLr",
    "outputId": "6bba930d-b8ad-4200-9451-bb22b16e56ea"
   },
   "outputs": [
    {
     "data": {
      "text/html": [
       "<div>\n",
       "<style scoped>\n",
       "    .dataframe tbody tr th:only-of-type {\n",
       "        vertical-align: middle;\n",
       "    }\n",
       "\n",
       "    .dataframe tbody tr th {\n",
       "        vertical-align: top;\n",
       "    }\n",
       "\n",
       "    .dataframe thead th {\n",
       "        text-align: right;\n",
       "    }\n",
       "</style>\n",
       "<table border=\"1\" class=\"dataframe\">\n",
       "  <thead>\n",
       "    <tr style=\"text-align: right;\">\n",
       "      <th></th>\n",
       "      <th>two</th>\n",
       "      <th>four</th>\n",
       "    </tr>\n",
       "  </thead>\n",
       "  <tbody>\n",
       "    <tr>\n",
       "      <th>0</th>\n",
       "      <td>2.0</td>\n",
       "      <td>4.0</td>\n",
       "    </tr>\n",
       "    <tr>\n",
       "      <th>1</th>\n",
       "      <td>2.0</td>\n",
       "      <td>4.0</td>\n",
       "    </tr>\n",
       "    <tr>\n",
       "      <th>2</th>\n",
       "      <td>2.0</td>\n",
       "      <td>4.0</td>\n",
       "    </tr>\n",
       "  </tbody>\n",
       "</table>\n",
       "</div>"
      ],
      "text/plain": [
       "   two  four\n",
       "0  2.0   4.0\n",
       "1  2.0   4.0\n",
       "2  2.0   4.0"
      ]
     },
     "execution_count": 73,
     "metadata": {},
     "output_type": "execute_result"
    }
   ],
   "source": [
    "dt.iloc[:3, 1::2]"
   ]
  },
  {
   "cell_type": "markdown",
   "metadata": {
    "id": "Zn3a526CIwLr"
   },
   "source": [
    "Булевое индексирование позволяет выдавать только те элементы таблицы, которые удовлетворяют определенному условию. Выполняется такое индексирование следующим образом. Операция **dt['one'] > 1** выдает объект **Series** булева типа. Если использовать этот массив в качестве индексов, то мы получим все ряды таблицы, у которой **dt['one'] > 1**."
   ]
  },
  {
   "cell_type": "code",
   "execution_count": null,
   "metadata": {
    "id": "KJFtACM7IwLr",
    "outputId": "d9d3e5c1-6e25-49d0-c1e6-560c25076c24"
   },
   "outputs": [
    {
     "data": {
      "text/html": [
       "<div>\n",
       "<style scoped>\n",
       "    .dataframe tbody tr th:only-of-type {\n",
       "        vertical-align: middle;\n",
       "    }\n",
       "\n",
       "    .dataframe tbody tr th {\n",
       "        vertical-align: top;\n",
       "    }\n",
       "\n",
       "    .dataframe thead th {\n",
       "        text-align: right;\n",
       "    }\n",
       "</style>\n",
       "<table border=\"1\" class=\"dataframe\">\n",
       "  <thead>\n",
       "    <tr style=\"text-align: right;\">\n",
       "      <th></th>\n",
       "      <th>one</th>\n",
       "      <th>two</th>\n",
       "      <th>three</th>\n",
       "      <th>four</th>\n",
       "      <th>five</th>\n",
       "    </tr>\n",
       "  </thead>\n",
       "  <tbody>\n",
       "    <tr>\n",
       "      <th>0</th>\n",
       "      <td>1.0</td>\n",
       "      <td>2.0</td>\n",
       "      <td>3.0</td>\n",
       "      <td>4.0</td>\n",
       "      <td>5.0</td>\n",
       "    </tr>\n",
       "    <tr>\n",
       "      <th>1</th>\n",
       "      <td>1.0</td>\n",
       "      <td>2.0</td>\n",
       "      <td>3.0</td>\n",
       "      <td>4.0</td>\n",
       "      <td>5.0</td>\n",
       "    </tr>\n",
       "    <tr>\n",
       "      <th>2</th>\n",
       "      <td>2.0</td>\n",
       "      <td>2.0</td>\n",
       "      <td>3.0</td>\n",
       "      <td>4.0</td>\n",
       "      <td>5.0</td>\n",
       "    </tr>\n",
       "    <tr>\n",
       "      <th>3</th>\n",
       "      <td>2.0</td>\n",
       "      <td>2.0</td>\n",
       "      <td>3.0</td>\n",
       "      <td>4.0</td>\n",
       "      <td>5.0</td>\n",
       "    </tr>\n",
       "    <tr>\n",
       "      <th>4</th>\n",
       "      <td>2.0</td>\n",
       "      <td>2.0</td>\n",
       "      <td>3.0</td>\n",
       "      <td>4.0</td>\n",
       "      <td>5.0</td>\n",
       "    </tr>\n",
       "  </tbody>\n",
       "</table>\n",
       "</div>"
      ],
      "text/plain": [
       "   one  two  three  four  five\n",
       "0  1.0  2.0    3.0   4.0   5.0\n",
       "1  1.0  2.0    3.0   4.0   5.0\n",
       "2  2.0  2.0    3.0   4.0   5.0\n",
       "3  2.0  2.0    3.0   4.0   5.0\n",
       "4  2.0  2.0    3.0   4.0   5.0"
      ]
     },
     "execution_count": 74,
     "metadata": {},
     "output_type": "execute_result"
    }
   ],
   "source": [
    "dt.loc[2:4, 'one'] = 2\n",
    "dt"
   ]
  },
  {
   "cell_type": "code",
   "execution_count": null,
   "metadata": {
    "id": "3KxZPq43IwLs",
    "outputId": "77e18b50-4fe7-425c-ea13-2c3dacb982c2"
   },
   "outputs": [
    {
     "data": {
      "text/plain": [
       "0    False\n",
       "1    False\n",
       "2     True\n",
       "3     True\n",
       "4     True\n",
       "Name: one, dtype: bool"
      ]
     },
     "execution_count": 75,
     "metadata": {},
     "output_type": "execute_result"
    }
   ],
   "source": [
    "dt['one'] > 1"
   ]
  },
  {
   "cell_type": "code",
   "execution_count": null,
   "metadata": {
    "id": "zj0wNq2aIwLs",
    "outputId": "8be97eca-5f09-4730-ef3e-93449f42a18f"
   },
   "outputs": [
    {
     "data": {
      "text/html": [
       "<div>\n",
       "<style scoped>\n",
       "    .dataframe tbody tr th:only-of-type {\n",
       "        vertical-align: middle;\n",
       "    }\n",
       "\n",
       "    .dataframe tbody tr th {\n",
       "        vertical-align: top;\n",
       "    }\n",
       "\n",
       "    .dataframe thead th {\n",
       "        text-align: right;\n",
       "    }\n",
       "</style>\n",
       "<table border=\"1\" class=\"dataframe\">\n",
       "  <thead>\n",
       "    <tr style=\"text-align: right;\">\n",
       "      <th></th>\n",
       "      <th>one</th>\n",
       "      <th>two</th>\n",
       "      <th>three</th>\n",
       "      <th>four</th>\n",
       "      <th>five</th>\n",
       "    </tr>\n",
       "  </thead>\n",
       "  <tbody>\n",
       "    <tr>\n",
       "      <th>2</th>\n",
       "      <td>2.0</td>\n",
       "      <td>2.0</td>\n",
       "      <td>3.0</td>\n",
       "      <td>4.0</td>\n",
       "      <td>5.0</td>\n",
       "    </tr>\n",
       "    <tr>\n",
       "      <th>3</th>\n",
       "      <td>2.0</td>\n",
       "      <td>2.0</td>\n",
       "      <td>3.0</td>\n",
       "      <td>4.0</td>\n",
       "      <td>5.0</td>\n",
       "    </tr>\n",
       "    <tr>\n",
       "      <th>4</th>\n",
       "      <td>2.0</td>\n",
       "      <td>2.0</td>\n",
       "      <td>3.0</td>\n",
       "      <td>4.0</td>\n",
       "      <td>5.0</td>\n",
       "    </tr>\n",
       "  </tbody>\n",
       "</table>\n",
       "</div>"
      ],
      "text/plain": [
       "   one  two  three  four  five\n",
       "2  2.0  2.0    3.0   4.0   5.0\n",
       "3  2.0  2.0    3.0   4.0   5.0\n",
       "4  2.0  2.0    3.0   4.0   5.0"
      ]
     },
     "execution_count": 76,
     "metadata": {},
     "output_type": "execute_result"
    }
   ],
   "source": [
    "dt[dt['one'] > 1]"
   ]
  },
  {
   "cell_type": "markdown",
   "metadata": {
    "id": "90hi2NqHIwLs"
   },
   "source": [
    "Итерирование по элементам таблицы можно проводить различными способами: по парам **(column_label, Series)** с помощью методов **items()** и **iteritems()** (они идентичны), по парам **(index_label, Series)** с помощью метода **iterrows()**."
   ]
  },
  {
   "cell_type": "code",
   "execution_count": null,
   "metadata": {
    "id": "XCQz232CIwLt",
    "outputId": "5d8859ec-3a60-46f4-bd86-74d7ad34158f"
   },
   "outputs": [
    {
     "name": "stdout",
     "output_type": "stream",
     "text": [
      "one one\n",
      "two two\n",
      "three three\n",
      "four four\n",
      "five five\n"
     ]
    }
   ],
   "source": [
    "for col, ser in dt.iteritems():\n",
    "    print(col, ser.name)"
   ]
  },
  {
   "cell_type": "code",
   "execution_count": null,
   "metadata": {
    "id": "2nOGH_MEIwLt",
    "outputId": "28c890e4-cbb9-4a12-f191-17d73ff2873e"
   },
   "outputs": [
    {
     "name": "stdout",
     "output_type": "stream",
     "text": [
      "0 0\n",
      "1 1\n",
      "2 2\n",
      "3 3\n",
      "4 4\n"
     ]
    }
   ],
   "source": [
    "for idx, ser in dt.iterrows():\n",
    "    print(idx, ser.name)"
   ]
  },
  {
   "cell_type": "markdown",
   "metadata": {
    "id": "AsH4tbyNIwLt"
   },
   "source": [
    "Класс **DataFrame**, так же как и класс **Series**, имеет много различных поэлементных операций: сложение **add()**, вычитание **sub()**, умножение **mul()**, деление **div()**, округление **round()**, возведение в степень **pow()**, операций сравнения: меньше **lt()**, больше **gt()**, меньши или равно **le()**, больше или равно **ge()**, не равен **ne()**, равен **eq()** и др.\n",
    "\n",
    "Есть возможность также находить значение различных статистических функций **mean()**, **max()**, **min()**, **skew()**, **kurtosis()**, **median()**, **corr()**, **cov()** и др, параметр **axis** определять направление, вдоль которого применяется та или иная функция (0 означает по колонкам, 1 - по рядам)."
   ]
  },
  {
   "cell_type": "code",
   "execution_count": null,
   "metadata": {
    "id": "KKWJpzL8IwLu",
    "outputId": "e94507e7-fa5d-4396-e8e5-eb7a3566e72c"
   },
   "outputs": [
    {
     "data": {
      "text/plain": [
       "one      1.6\n",
       "two      2.0\n",
       "three    3.0\n",
       "four     4.0\n",
       "five     5.0\n",
       "dtype: float32"
      ]
     },
     "execution_count": 79,
     "metadata": {},
     "output_type": "execute_result"
    }
   ],
   "source": [
    "dt.mean(axis=0)"
   ]
  },
  {
   "cell_type": "code",
   "execution_count": null,
   "metadata": {
    "id": "aVnTe-eZIwLu",
    "outputId": "cf3c5a7f-310c-4044-cea8-4186b878138d"
   },
   "outputs": [
    {
     "data": {
      "text/plain": [
       "0    3.0\n",
       "1    3.0\n",
       "2    3.2\n",
       "3    3.2\n",
       "4    3.2\n",
       "dtype: float32"
      ]
     },
     "execution_count": 80,
     "metadata": {},
     "output_type": "execute_result"
    }
   ],
   "source": [
    "dt.mean(axis=1)"
   ]
  },
  {
   "cell_type": "markdown",
   "metadata": {
    "id": "HuOoDPWMIwLu"
   },
   "source": [
    "### Применение пользовательских и аггрегирующих функций"
   ]
  },
  {
   "cell_type": "markdown",
   "metadata": {
    "id": "qARLrES2IwLv"
   },
   "source": [
    "Метод **apply(func, axis)** позволяет применять любую функцию **func**, которая принимает на вход одномерный массив, к колонкам (**axis = 0**) или к строкам (**axis == 1**). Для того, чтобы применить функцию ко всем элементам массива, т.е. поэлементно, нужно применить использовать метод **applymap(func)**."
   ]
  },
  {
   "cell_type": "code",
   "execution_count": null,
   "metadata": {
    "id": "F80JInvzIwLv",
    "outputId": "8953099d-649e-447d-8a26-a0e15a78f8cd"
   },
   "outputs": [
    {
     "data": {
      "text/html": [
       "<div>\n",
       "<style scoped>\n",
       "    .dataframe tbody tr th:only-of-type {\n",
       "        vertical-align: middle;\n",
       "    }\n",
       "\n",
       "    .dataframe tbody tr th {\n",
       "        vertical-align: top;\n",
       "    }\n",
       "\n",
       "    .dataframe thead th {\n",
       "        text-align: right;\n",
       "    }\n",
       "</style>\n",
       "<table border=\"1\" class=\"dataframe\">\n",
       "  <thead>\n",
       "    <tr style=\"text-align: right;\">\n",
       "      <th></th>\n",
       "      <th>one</th>\n",
       "      <th>two</th>\n",
       "      <th>three</th>\n",
       "      <th>four</th>\n",
       "      <th>five</th>\n",
       "    </tr>\n",
       "  </thead>\n",
       "  <tbody>\n",
       "    <tr>\n",
       "      <th>0</th>\n",
       "      <td>0.841471</td>\n",
       "      <td>0.909297</td>\n",
       "      <td>0.14112</td>\n",
       "      <td>-0.756802</td>\n",
       "      <td>-0.958924</td>\n",
       "    </tr>\n",
       "    <tr>\n",
       "      <th>1</th>\n",
       "      <td>0.841471</td>\n",
       "      <td>0.909297</td>\n",
       "      <td>0.14112</td>\n",
       "      <td>-0.756802</td>\n",
       "      <td>-0.958924</td>\n",
       "    </tr>\n",
       "    <tr>\n",
       "      <th>2</th>\n",
       "      <td>0.909297</td>\n",
       "      <td>0.909297</td>\n",
       "      <td>0.14112</td>\n",
       "      <td>-0.756802</td>\n",
       "      <td>-0.958924</td>\n",
       "    </tr>\n",
       "    <tr>\n",
       "      <th>3</th>\n",
       "      <td>0.909297</td>\n",
       "      <td>0.909297</td>\n",
       "      <td>0.14112</td>\n",
       "      <td>-0.756802</td>\n",
       "      <td>-0.958924</td>\n",
       "    </tr>\n",
       "    <tr>\n",
       "      <th>4</th>\n",
       "      <td>0.909297</td>\n",
       "      <td>0.909297</td>\n",
       "      <td>0.14112</td>\n",
       "      <td>-0.756802</td>\n",
       "      <td>-0.958924</td>\n",
       "    </tr>\n",
       "  </tbody>\n",
       "</table>\n",
       "</div>"
      ],
      "text/plain": [
       "        one       two    three      four      five\n",
       "0  0.841471  0.909297  0.14112 -0.756802 -0.958924\n",
       "1  0.841471  0.909297  0.14112 -0.756802 -0.958924\n",
       "2  0.909297  0.909297  0.14112 -0.756802 -0.958924\n",
       "3  0.909297  0.909297  0.14112 -0.756802 -0.958924\n",
       "4  0.909297  0.909297  0.14112 -0.756802 -0.958924"
      ]
     },
     "execution_count": 81,
     "metadata": {},
     "output_type": "execute_result"
    }
   ],
   "source": [
    "dt.applymap(np.sin)"
   ]
  },
  {
   "cell_type": "code",
   "execution_count": null,
   "metadata": {
    "id": "NY7xXeYEIwLv",
    "outputId": "12e7eeb4-24ee-4e56-c8cc-e6687435d52f"
   },
   "outputs": [
    {
     "data": {
      "text/plain": [
       "one      1.0\n",
       "two      2.0\n",
       "three    3.0\n",
       "four     4.0\n",
       "five     5.0\n",
       "dtype: float64"
      ]
     },
     "execution_count": 82,
     "metadata": {},
     "output_type": "execute_result"
    }
   ],
   "source": [
    "dt.apply(np.min, axis=0)"
   ]
  },
  {
   "cell_type": "markdown",
   "metadata": {
    "id": "H8AmLqp-IwLv"
   },
   "source": [
    "Для группировки рядов по значениям в определенных колонках используется метод **groupby(by, axis)**, где в качестве первого параметра можно передать названия колонок, по значениям которых будет производиться группировка. Параметр **axis** показывает, будет ли производиться разбиение по колонкам или по рядам. Этот метод возвращает объект **DataFrameGroupBy**, который содержит в себе группы. Чтобы получить снова таблицу, необходимо применить дополнительно любую функцию, выделяющую один элемент из нескольких (среднее, максимум и др.)"
   ]
  },
  {
   "cell_type": "code",
   "execution_count": null,
   "metadata": {
    "id": "dDFttC8hIwLw",
    "outputId": "f9a4c6ad-b501-4d5d-fe93-837b9e376eaa"
   },
   "outputs": [
    {
     "data": {
      "text/html": [
       "<div>\n",
       "<style scoped>\n",
       "    .dataframe tbody tr th:only-of-type {\n",
       "        vertical-align: middle;\n",
       "    }\n",
       "\n",
       "    .dataframe tbody tr th {\n",
       "        vertical-align: top;\n",
       "    }\n",
       "\n",
       "    .dataframe thead th {\n",
       "        text-align: right;\n",
       "    }\n",
       "</style>\n",
       "<table border=\"1\" class=\"dataframe\">\n",
       "  <thead>\n",
       "    <tr style=\"text-align: right;\">\n",
       "      <th></th>\n",
       "      <th>one</th>\n",
       "      <th>two</th>\n",
       "      <th>three</th>\n",
       "      <th>four</th>\n",
       "      <th>five</th>\n",
       "    </tr>\n",
       "  </thead>\n",
       "  <tbody>\n",
       "    <tr>\n",
       "      <th>0</th>\n",
       "      <td>1.0</td>\n",
       "      <td>2.0</td>\n",
       "      <td>2.0</td>\n",
       "      <td>4.0</td>\n",
       "      <td>5.0</td>\n",
       "    </tr>\n",
       "    <tr>\n",
       "      <th>1</th>\n",
       "      <td>1.0</td>\n",
       "      <td>2.0</td>\n",
       "      <td>2.0</td>\n",
       "      <td>4.0</td>\n",
       "      <td>5.0</td>\n",
       "    </tr>\n",
       "    <tr>\n",
       "      <th>2</th>\n",
       "      <td>2.0</td>\n",
       "      <td>2.0</td>\n",
       "      <td>2.0</td>\n",
       "      <td>4.0</td>\n",
       "      <td>5.0</td>\n",
       "    </tr>\n",
       "    <tr>\n",
       "      <th>3</th>\n",
       "      <td>2.0</td>\n",
       "      <td>2.0</td>\n",
       "      <td>3.0</td>\n",
       "      <td>4.0</td>\n",
       "      <td>2.0</td>\n",
       "    </tr>\n",
       "    <tr>\n",
       "      <th>4</th>\n",
       "      <td>2.0</td>\n",
       "      <td>2.0</td>\n",
       "      <td>3.0</td>\n",
       "      <td>4.0</td>\n",
       "      <td>2.0</td>\n",
       "    </tr>\n",
       "  </tbody>\n",
       "</table>\n",
       "</div>"
      ],
      "text/plain": [
       "   one  two  three  four  five\n",
       "0  1.0  2.0    2.0   4.0   5.0\n",
       "1  1.0  2.0    2.0   4.0   5.0\n",
       "2  2.0  2.0    2.0   4.0   5.0\n",
       "3  2.0  2.0    3.0   4.0   2.0\n",
       "4  2.0  2.0    3.0   4.0   2.0"
      ]
     },
     "execution_count": 83,
     "metadata": {},
     "output_type": "execute_result"
    }
   ],
   "source": [
    "dt.loc[2:4, 'one'] = 2\n",
    "dt.loc[:2, 'three'] = 2\n",
    "dt.loc[3:4, 'five'] = 2\n",
    "dt"
   ]
  },
  {
   "cell_type": "code",
   "execution_count": null,
   "metadata": {
    "id": "VdbQQ58_IwLw",
    "outputId": "f0ca9fcd-baff-4ded-9910-bdcec326462f"
   },
   "outputs": [
    {
     "data": {
      "text/plain": [
       "<pandas.core.groupby.generic.DataFrameGroupBy object at 0x000001ED3EFD89D0>"
      ]
     },
     "execution_count": 84,
     "metadata": {},
     "output_type": "execute_result"
    }
   ],
   "source": [
    "dt.groupby(['one'])"
   ]
  },
  {
   "cell_type": "code",
   "execution_count": null,
   "metadata": {
    "id": "4nknQDXSIwLw",
    "outputId": "e959f3f2-7380-4a30-b768-92e090122dfc"
   },
   "outputs": [
    {
     "data": {
      "text/html": [
       "<div>\n",
       "<style scoped>\n",
       "    .dataframe tbody tr th:only-of-type {\n",
       "        vertical-align: middle;\n",
       "    }\n",
       "\n",
       "    .dataframe tbody tr th {\n",
       "        vertical-align: top;\n",
       "    }\n",
       "\n",
       "    .dataframe thead th {\n",
       "        text-align: right;\n",
       "    }\n",
       "</style>\n",
       "<table border=\"1\" class=\"dataframe\">\n",
       "  <thead>\n",
       "    <tr style=\"text-align: right;\">\n",
       "      <th></th>\n",
       "      <th>two</th>\n",
       "      <th>three</th>\n",
       "      <th>four</th>\n",
       "      <th>five</th>\n",
       "    </tr>\n",
       "    <tr>\n",
       "      <th>one</th>\n",
       "      <th></th>\n",
       "      <th></th>\n",
       "      <th></th>\n",
       "      <th></th>\n",
       "    </tr>\n",
       "  </thead>\n",
       "  <tbody>\n",
       "    <tr>\n",
       "      <th>1.0</th>\n",
       "      <td>2.0</td>\n",
       "      <td>2.000000</td>\n",
       "      <td>4.0</td>\n",
       "      <td>5.0</td>\n",
       "    </tr>\n",
       "    <tr>\n",
       "      <th>2.0</th>\n",
       "      <td>2.0</td>\n",
       "      <td>2.666667</td>\n",
       "      <td>4.0</td>\n",
       "      <td>3.0</td>\n",
       "    </tr>\n",
       "  </tbody>\n",
       "</table>\n",
       "</div>"
      ],
      "text/plain": [
       "     two     three  four  five\n",
       "one                           \n",
       "1.0  2.0  2.000000   4.0   5.0\n",
       "2.0  2.0  2.666667   4.0   3.0"
      ]
     },
     "execution_count": 85,
     "metadata": {},
     "output_type": "execute_result"
    }
   ],
   "source": [
    "dt.groupby(['one']).mean()"
   ]
  },
  {
   "cell_type": "markdown",
   "metadata": {
    "id": "eiIKPknbIwLw"
   },
   "source": [
    "Другой способ аггрегирования состоит в расчете определенных аггрегирующих функций (максимум, среднее и пр.) для определенных столбцов с помощью метода **agg(dict, axis)**. Ключами словаря **dict** являются названия колонок (или индексы рядов), а значениями - функции. Или же можно просто передать набор функций, в этом случае они будут применены ко всем колонкам. Параметр **axis** позволяет применять аггрегирование либо к колонкам, либо к рядам."
   ]
  },
  {
   "cell_type": "code",
   "execution_count": null,
   "metadata": {
    "id": "C8Wpj2PAIwLx",
    "outputId": "221af5f9-420f-45d9-ca96-b4ab6f75a554"
   },
   "outputs": [
    {
     "data": {
      "text/html": [
       "<div>\n",
       "<style scoped>\n",
       "    .dataframe tbody tr th:only-of-type {\n",
       "        vertical-align: middle;\n",
       "    }\n",
       "\n",
       "    .dataframe tbody tr th {\n",
       "        vertical-align: top;\n",
       "    }\n",
       "\n",
       "    .dataframe thead th {\n",
       "        text-align: right;\n",
       "    }\n",
       "</style>\n",
       "<table border=\"1\" class=\"dataframe\">\n",
       "  <thead>\n",
       "    <tr style=\"text-align: right;\">\n",
       "      <th></th>\n",
       "      <th>one</th>\n",
       "      <th>two</th>\n",
       "      <th>three</th>\n",
       "      <th>four</th>\n",
       "      <th>five</th>\n",
       "    </tr>\n",
       "  </thead>\n",
       "  <tbody>\n",
       "    <tr>\n",
       "      <th>mean</th>\n",
       "      <td>1.6</td>\n",
       "      <td>2.0</td>\n",
       "      <td>2.4</td>\n",
       "      <td>4.0</td>\n",
       "      <td>3.8</td>\n",
       "    </tr>\n",
       "    <tr>\n",
       "      <th>median</th>\n",
       "      <td>2.0</td>\n",
       "      <td>2.0</td>\n",
       "      <td>2.0</td>\n",
       "      <td>4.0</td>\n",
       "      <td>5.0</td>\n",
       "    </tr>\n",
       "  </tbody>\n",
       "</table>\n",
       "</div>"
      ],
      "text/plain": [
       "        one  two  three  four  five\n",
       "mean    1.6  2.0    2.4   4.0   3.8\n",
       "median  2.0  2.0    2.0   4.0   5.0"
      ]
     },
     "execution_count": 86,
     "metadata": {},
     "output_type": "execute_result"
    }
   ],
   "source": [
    "dt.agg([np.mean, np.median])"
   ]
  },
  {
   "cell_type": "code",
   "execution_count": null,
   "metadata": {
    "id": "hkG3nbpFIwLx",
    "outputId": "49f1743e-6718-4646-c70a-46a117e2481f"
   },
   "outputs": [
    {
     "data": {
      "text/html": [
       "<div>\n",
       "<style scoped>\n",
       "    .dataframe tbody tr th:only-of-type {\n",
       "        vertical-align: middle;\n",
       "    }\n",
       "\n",
       "    .dataframe tbody tr th {\n",
       "        vertical-align: top;\n",
       "    }\n",
       "\n",
       "    .dataframe thead th {\n",
       "        text-align: right;\n",
       "    }\n",
       "</style>\n",
       "<table border=\"1\" class=\"dataframe\">\n",
       "  <thead>\n",
       "    <tr style=\"text-align: right;\">\n",
       "      <th></th>\n",
       "      <th>mean</th>\n",
       "      <th>sum</th>\n",
       "    </tr>\n",
       "  </thead>\n",
       "  <tbody>\n",
       "    <tr>\n",
       "      <th>0</th>\n",
       "      <td>2.8</td>\n",
       "      <td>14.0</td>\n",
       "    </tr>\n",
       "    <tr>\n",
       "      <th>1</th>\n",
       "      <td>2.8</td>\n",
       "      <td>14.0</td>\n",
       "    </tr>\n",
       "    <tr>\n",
       "      <th>2</th>\n",
       "      <td>3.0</td>\n",
       "      <td>15.0</td>\n",
       "    </tr>\n",
       "    <tr>\n",
       "      <th>3</th>\n",
       "      <td>2.6</td>\n",
       "      <td>13.0</td>\n",
       "    </tr>\n",
       "    <tr>\n",
       "      <th>4</th>\n",
       "      <td>2.6</td>\n",
       "      <td>13.0</td>\n",
       "    </tr>\n",
       "  </tbody>\n",
       "</table>\n",
       "</div>"
      ],
      "text/plain": [
       "   mean   sum\n",
       "0   2.8  14.0\n",
       "1   2.8  14.0\n",
       "2   3.0  15.0\n",
       "3   2.6  13.0\n",
       "4   2.6  13.0"
      ]
     },
     "execution_count": 87,
     "metadata": {},
     "output_type": "execute_result"
    }
   ],
   "source": [
    "dt.agg([np.mean, np.sum], axis=1)"
   ]
  },
  {
   "cell_type": "markdown",
   "metadata": {
    "id": "uT9FG49OIwLx"
   },
   "source": [
    "## Задания для самостоятельной работы"
   ]
  },
  {
   "cell_type": "markdown",
   "metadata": {
    "id": "N660M6A7IwLx"
   },
   "source": [
    "### Задание 1.\n",
    "\n",
    "Используя модуль **numpy**:\n",
    "1. Создайте массив numpy длиной 50, содержащий значения квадратного корня для отрезка от 0 до 10. Исходное разбиение отрезка линейное. Правую границу отрезка не включать."
   ]
  },
  {
   "cell_type": "code",
   "execution_count": 13,
   "metadata": {
    "id": "NYz9nHzxIwLy"
   },
   "outputs": [
    {
     "name": "stdout",
     "output_type": "stream",
     "text": [
      "[0.         0.4472136  0.63245553 0.77459667 0.89442719 1.\n",
      " 1.09544512 1.18321596 1.26491106 1.34164079 1.41421356 1.4832397\n",
      " 1.54919334 1.61245155 1.67332005 1.73205081 1.78885438 1.84390889\n",
      " 1.8973666  1.94935887 2.         2.04939015 2.0976177  2.14476106\n",
      " 2.19089023 2.23606798 2.28035085 2.32379001 2.36643191 2.40831892\n",
      " 2.44948974 2.48997992 2.52982213 2.56904652 2.60768096 2.64575131\n",
      " 2.68328157 2.7202941  2.75680975 2.79284801 2.82842712 2.86356421\n",
      " 2.89827535 2.93257566 2.96647939 3.         3.03315018 3.06594194\n",
      " 3.09838668 3.13049517]\n"
     ]
    }
   ],
   "source": [
    "# напишите здесь ваше решение\n",
    "import numpy as np\n",
    "\n",
    "x = np.linspace(0, 10, 50, endpoint=False)\n",
    "sqrt_values = np.sqrt(x)\n",
    "\n",
    "print(sqrt_values)"
   ]
  },
  {
   "cell_type": "markdown",
   "metadata": {
    "id": "bJmDvMk7I0Aa"
   },
   "source": [
    "2. Оставьте только каждое 2-е значение в массиве. Расположите их в обратном порядке."
   ]
  },
  {
   "cell_type": "code",
   "execution_count": 17,
   "metadata": {
    "id": "U9DrGEYWI4ZV"
   },
   "outputs": [
    {
     "name": "stdout",
     "output_type": "stream",
     "text": [
      "[3.13049517 3.06594194 3.         2.93257566 2.86356421 2.79284801\n",
      " 2.7202941  2.64575131 2.56904652 2.48997992 2.40831892 2.32379001\n",
      " 2.23606798 2.14476106 2.04939015 1.94935887 1.84390889 1.73205081\n",
      " 1.61245155 1.4832397  1.34164079 1.18321596 1.         0.77459667\n",
      " 0.4472136 ]\n"
     ]
    }
   ],
   "source": [
    "# напишите здесь ваше решение\n",
    "# Оставляем каждое 2-е значение\n",
    "every_second = sqrt_values[::-2]\n",
    "\n",
    "print(every_second)"
   ]
  },
  {
   "cell_type": "markdown",
   "metadata": {
    "id": "7n09Q7_cI5fc"
   },
   "source": [
    "3. Добавьте снизу к этой строке еще одну, содержащую значения из отрезка [1,2], расположенные в логарифмическом масштабе."
   ]
  },
  {
   "cell_type": "code",
   "execution_count": 25,
   "metadata": {
    "id": "oVgVG7sLJFpA"
   },
   "outputs": [
    {
     "name": "stdout",
     "output_type": "stream",
     "text": [
      "[[  3.13049517   3.06594194   3.           2.93257566   2.86356421\n",
      "    2.79284801   2.7202941    2.64575131   2.56904652   2.48997992\n",
      "    2.40831892   2.32379001   2.23606798   2.14476106   2.04939015\n",
      "    1.94935887   1.84390889   1.73205081   1.61245155   1.4832397\n",
      "    1.34164079   1.18321596   1.           0.77459667   0.4472136 ]\n",
      " [ 10.          11.00694171  12.11527659  13.33521432  14.67799268\n",
      "   16.15598098  17.7827941   19.57341781  21.5443469   23.71373706\n",
      "   26.10157216  28.72984833  31.6227766   34.80700588  38.3118685\n",
      "   42.16965034  46.41588834  51.08969775  56.23413252  61.89658189\n",
      "   68.12920691  74.98942093  82.54041853  90.85175757 100.        ]]\n"
     ]
    }
   ],
   "source": [
    "# напишите здесь ваше решение\n",
    "log_values = np.logspace(1, 2, every_second.shape[0])\n",
    "\n",
    "result_matrix = np.vstack([every_second, log_values])\n",
    "\n",
    "print(result_matrix)"
   ]
  },
  {
   "cell_type": "markdown",
   "metadata": {
    "id": "OAKyfie-I9e9"
   },
   "source": [
    "4. Посчитайте от каждого столбца среднее геометрическое и представьте ответ в виде одномерного массива."
   ]
  },
  {
   "cell_type": "code",
   "execution_count": 26,
   "metadata": {
    "id": "ON0HNXKYJGeQ"
   },
   "outputs": [
    {
     "name": "stdout",
     "output_type": "stream",
     "text": [
      "[5.59508281 5.8091862  6.02875027 6.253521   6.48316084 6.71723152\n",
      " 6.95517289 7.19627653 7.4396525  7.68418695 7.92848724 8.1708099\n",
      " 8.40896415 8.64018002 8.86092354 9.06663013 9.25130635 9.40690981\n",
      " 9.52233239 9.58162133 9.56059218 9.41959019 9.08517576 8.3888896\n",
      " 6.68740305]\n"
     ]
    }
   ],
   "source": [
    "# напишите здесь ваше решение\n",
    "# Вычисляем произведение каждого столбца\n",
    "product_of_columns = np.prod(result_matrix, axis=0)\n",
    "\n",
    "geom_mean = np.sqrt(product_of_columns)\n",
    "\n",
    "print(geom_mean)"
   ]
  },
  {
   "cell_type": "markdown",
   "metadata": {
    "id": "e2Wf8z-WJAD0"
   },
   "source": [
    "5. Определите его среднее значение."
   ]
  },
  {
   "cell_type": "code",
   "execution_count": 27,
   "metadata": {
    "id": "99VAWThIJHOK"
   },
   "outputs": [
    {
     "name": "stdout",
     "output_type": "stream",
     "text": [
      "7.9256814868795615\n"
     ]
    }
   ],
   "source": [
    "# напишите здесь ваше решение\n",
    "mean_value = np.mean(geom_mean)\n",
    "\n",
    "print(mean_value)"
   ]
  },
  {
   "cell_type": "markdown",
   "metadata": {
    "id": "04usZxDJJBw1"
   },
   "source": [
    "6. Создайте одномерный массив длиной 1000 путем поэлементного добавления в него значений функции sinc(x) на отрезке [-3,3]."
   ]
  },
  {
   "cell_type": "code",
   "execution_count": 28,
   "metadata": {
    "id": "qk2gbNTZJHwo"
   },
   "outputs": [
    {
     "name": "stdout",
     "output_type": "stream",
     "text": [
      "[0.04704    0.04911945 0.05120547 0.05329805 0.05539715 0.05750274\n",
      " 0.05961478 0.06173325 0.0638581  0.06598931 0.06812684 0.07027066\n",
      " 0.07242074 0.07457704 0.07673952 0.07890816 0.08108291 0.08326375\n",
      " 0.08545064 0.08764354 0.08984242 0.09204724 0.09425798 0.09647458\n",
      " 0.09869702 0.10092525 0.10315926 0.10539898 0.1076444  0.10989548\n",
      " 0.11215217 0.11441444 0.11668225 0.11895556 0.12123435 0.12351856\n",
      " 0.12580816 0.12810312 0.13040339 0.13270893 0.13501972 0.1373357\n",
      " 0.13965685 0.14198311 0.14431445 0.14665084 0.14899223 0.15133858\n",
      " 0.15368985 0.15604601 0.15840701 0.16077281 0.16314337 0.16551865\n",
      " 0.16789861 0.17028321 0.17267241 0.17506616 0.17746442 0.17986716\n",
      " 0.18227433 0.18468589 0.1871018  0.18952201 0.19194648 0.19437518\n",
      " 0.19680805 0.19924505 0.20168615 0.2041313  0.20658045 0.20903356\n",
      " 0.21149059 0.2139515  0.21641624 0.21888477 0.22135704 0.22383301\n",
      " 0.22631263 0.22879586 0.23128267 0.23377299 0.23626679 0.23876402\n",
      " 0.24126464 0.2437686  0.24627585 0.24878636 0.25130008 0.25381695\n",
      " 0.25633694 0.25885999 0.26138607 0.26391513 0.26644712 0.26898199\n",
      " 0.27151969 0.27406019 0.27660344 0.27914938 0.28169797 0.28424917\n",
      " 0.28680292 0.28935918 0.29191791 0.29447905 0.29704256 0.29960839\n",
      " 0.30217649 0.30474681 0.30731932 0.30989395 0.31247066 0.31504941\n",
      " 0.31763014 0.32021281 0.32279736 0.32538376 0.32797195 0.33056188\n",
      " 0.3331535  0.33574677 0.33834163 0.34093804 0.34353595 0.34613531\n",
      " 0.34873606 0.35133817 0.35394158 0.35654624 0.3591521  0.36175912\n",
      " 0.36436724 0.36697641 0.36958658 0.37219771 0.37480974 0.37742263\n",
      " 0.38003632 0.38265076 0.38526591 0.38788171 0.39049812 0.39311507\n",
      " 0.39573253 0.39835044 0.40096875 0.40358741 0.40620638 0.40882559\n",
      " 0.411445   0.41406456 0.41668422 0.41930392 0.42192362 0.42454327\n",
      " 0.42716281 0.42978219 0.43240136 0.43502028 0.43763888 0.44025712\n",
      " 0.44287495 0.44549232 0.44810917 0.45072546 0.45334113 0.45595613\n",
      " 0.45857041 0.46118391 0.4637966  0.46640841 0.46901929 0.4716292\n",
      " 0.47423808 0.47684588 0.47945255 0.48205803 0.48466229 0.48726525\n",
      " 0.48986688 0.49246711 0.49506591 0.49766321 0.50025897 0.50285314\n",
      " 0.50544566 0.50803648 0.51062554 0.51321281 0.51579822 0.51838173\n",
      " 0.52096329 0.52354283 0.52612031 0.52869569 0.5312689  0.53383989\n",
      " 0.53640862 0.53897503 0.54153908 0.5441007  0.54665985 0.54921648\n",
      " 0.55177054 0.55432196 0.55687071 0.55941674 0.56195998 0.56450039\n",
      " 0.56703791 0.56957251 0.57210412 0.57463269 0.57715817 0.57968052\n",
      " 0.58219968 0.58471559 0.58722821 0.5897375  0.59224338 0.59474583\n",
      " 0.59724477 0.59974018 0.60223198 0.60472014 0.6072046  0.60968531\n",
      " 0.61216222 0.61463528 0.61710444 0.61956965 0.62203085 0.62448801\n",
      " 0.62694107 0.62938997 0.63183467 0.63427512 0.63671126 0.63914306\n",
      " 0.64157045 0.64399339 0.64641183 0.64882572 0.65123501 0.65363965\n",
      " 0.65603959 0.65843478 0.66082517 0.66321071 0.66559136 0.66796706\n",
      " 0.67033777 0.67270343 0.675064   0.67741943 0.67976967 0.68211467\n",
      " 0.68445438 0.68678876 0.68911776 0.69144132 0.69375941 0.69607197\n",
      " 0.69837895 0.7006803  0.70297599 0.70526596 0.70755016 0.70982854\n",
      " 0.71210107 0.71436768 0.71662834 0.718883   0.72113161 0.72337412\n",
      " 0.72561049 0.72784067 0.73006462 0.73228228 0.73449361 0.73669857\n",
      " 0.7388971  0.74108917 0.74327473 0.74545373 0.74762612 0.74979187\n",
      " 0.75195092 0.75410323 0.75624876 0.75838745 0.76051928 0.76264418\n",
      " 0.76476212 0.76687305 0.76897693 0.77107371 0.77316336 0.77524582\n",
      " 0.77732105 0.779389   0.78144965 0.78350293 0.78554882 0.78758726\n",
      " 0.78961821 0.79164163 0.79365748 0.79566571 0.79766628 0.79965916\n",
      " 0.80164429 0.80362164 0.80559117 0.80755282 0.80950657 0.81145237\n",
      " 0.81339018 0.81531996 0.81724166 0.81915526 0.82106069 0.82295794\n",
      " 0.82484695 0.82672769 0.82860011 0.83046418 0.83231986 0.8341671\n",
      " 0.83600588 0.83783614 0.83965786 0.84147098 0.84327549 0.84507132\n",
      " 0.84685846 0.84863685 0.85040647 0.85216727 0.85391922 0.85566227\n",
      " 0.8573964  0.85912157 0.86083773 0.86254486 0.86424291 0.86593186\n",
      " 0.86761166 0.86928227 0.87094367 0.87259582 0.87423868 0.87587221\n",
      " 0.87749639 0.87911118 0.88071654 0.88231244 0.88389884 0.88547572\n",
      " 0.88704303 0.88860075 0.89014884 0.89168727 0.893216   0.894735\n",
      " 0.89624425 0.8977437  0.89923333 0.9007131  0.90218298 0.90364295\n",
      " 0.90509296 0.90653299 0.90796302 0.90938299 0.9107929  0.9121927\n",
      " 0.91358236 0.91496187 0.91633118 0.91769027 0.91903911 0.92037767\n",
      " 0.92170591 0.92302383 0.92433137 0.92562852 0.92691526 0.92819154\n",
      " 0.92945734 0.93071265 0.93195742 0.93319163 0.93441526 0.93562828\n",
      " 0.93683067 0.93802239 0.93920343 0.94037375 0.94153333 0.94268215\n",
      " 0.94382019 0.94494741 0.9460638  0.94716932 0.94826396 0.94934769\n",
      " 0.9504205  0.95148235 0.95253322 0.95357309 0.95460194 0.95561974\n",
      " 0.95662648 0.95762214 0.95860668 0.95958009 0.96054235 0.96149344\n",
      " 0.96243334 0.96336203 0.96427948 0.96518568 0.9660806  0.96696424\n",
      " 0.96783657 0.96869756 0.96954721 0.97038549 0.97121239 0.97202789\n",
      " 0.97283196 0.9736246  0.97440579 0.97517551 0.97593373 0.97668046\n",
      " 0.97741566 0.97813933 0.97885144 0.97955199 0.98024096 0.98091833\n",
      " 0.98158409 0.98223822 0.98288072 0.98351156 0.98413073 0.98473822\n",
      " 0.98533402 0.98591811 0.98649048 0.98705112 0.98760001 0.98813715\n",
      " 0.98866252 0.98917611 0.98967792 0.99016792 0.99064611 0.99111248\n",
      " 0.99156702 0.99200971 0.99244056 0.99285954 0.99326666 0.99366189\n",
      " 0.99404524 0.9944167  0.99477625 0.99512389 0.99545961 0.9957834\n",
      " 0.99609527 0.99639519 0.99668317 0.99695919 0.99722326 0.99747536\n",
      " 0.9977155  0.99794366 0.99815984 0.99836403 0.99855624 0.99873645\n",
      " 0.99890467 0.99906089 0.9992051  0.99933731 0.9994575  0.99956569\n",
      " 0.99966186 0.99974601 0.99981815 0.99987826 0.99992635 0.99996243\n",
      " 0.99998647 0.9999985  0.9999985  0.99998647 0.99996243 0.99992635\n",
      " 0.99987826 0.99981815 0.99974601 0.99966186 0.99956569 0.9994575\n",
      " 0.99933731 0.9992051  0.99906089 0.99890467 0.99873645 0.99855624\n",
      " 0.99836403 0.99815984 0.99794366 0.9977155  0.99747536 0.99722326\n",
      " 0.99695919 0.99668317 0.99639519 0.99609527 0.9957834  0.99545961\n",
      " 0.99512389 0.99477625 0.9944167  0.99404524 0.99366189 0.99326666\n",
      " 0.99285954 0.99244056 0.99200971 0.99156702 0.99111248 0.99064611\n",
      " 0.99016792 0.98967792 0.98917611 0.98866252 0.98813715 0.98760001\n",
      " 0.98705112 0.98649048 0.98591811 0.98533402 0.98473822 0.98413073\n",
      " 0.98351156 0.98288072 0.98223822 0.98158409 0.98091833 0.98024096\n",
      " 0.97955199 0.97885144 0.97813933 0.97741566 0.97668046 0.97593373\n",
      " 0.97517551 0.97440579 0.9736246  0.97283196 0.97202789 0.97121239\n",
      " 0.97038549 0.96954721 0.96869756 0.96783657 0.96696424 0.9660806\n",
      " 0.96518568 0.96427948 0.96336203 0.96243334 0.96149344 0.96054235\n",
      " 0.95958009 0.95860668 0.95762214 0.95662648 0.95561974 0.95460194\n",
      " 0.95357309 0.95253322 0.95148235 0.9504205  0.94934769 0.94826396\n",
      " 0.94716932 0.9460638  0.94494741 0.94382019 0.94268215 0.94153333\n",
      " 0.94037375 0.93920343 0.93802239 0.93683067 0.93562828 0.93441526\n",
      " 0.93319163 0.93195742 0.93071265 0.92945734 0.92819154 0.92691526\n",
      " 0.92562852 0.92433137 0.92302383 0.92170591 0.92037767 0.91903911\n",
      " 0.91769027 0.91633118 0.91496187 0.91358236 0.9121927  0.9107929\n",
      " 0.90938299 0.90796302 0.90653299 0.90509296 0.90364295 0.90218298\n",
      " 0.9007131  0.89923333 0.8977437  0.89624425 0.894735   0.893216\n",
      " 0.89168727 0.89014884 0.88860075 0.88704303 0.88547572 0.88389884\n",
      " 0.88231244 0.88071654 0.87911118 0.87749639 0.87587221 0.87423868\n",
      " 0.87259582 0.87094367 0.86928227 0.86761166 0.86593186 0.86424291\n",
      " 0.86254486 0.86083773 0.85912157 0.8573964  0.85566227 0.85391922\n",
      " 0.85216727 0.85040647 0.84863685 0.84685846 0.84507132 0.84327549\n",
      " 0.84147098 0.83965786 0.83783614 0.83600588 0.8341671  0.83231986\n",
      " 0.83046418 0.82860011 0.82672769 0.82484695 0.82295794 0.82106069\n",
      " 0.81915526 0.81724166 0.81531996 0.81339018 0.81145237 0.80950657\n",
      " 0.80755282 0.80559117 0.80362164 0.80164429 0.79965916 0.79766628\n",
      " 0.79566571 0.79365748 0.79164163 0.78961821 0.78758726 0.78554882\n",
      " 0.78350293 0.78144965 0.779389   0.77732105 0.77524582 0.77316336\n",
      " 0.77107371 0.76897693 0.76687305 0.76476212 0.76264418 0.76051928\n",
      " 0.75838745 0.75624876 0.75410323 0.75195092 0.74979187 0.74762612\n",
      " 0.74545373 0.74327473 0.74108917 0.7388971  0.73669857 0.73449361\n",
      " 0.73228228 0.73006462 0.72784067 0.72561049 0.72337412 0.72113161\n",
      " 0.718883   0.71662834 0.71436768 0.71210107 0.70982854 0.70755016\n",
      " 0.70526596 0.70297599 0.7006803  0.69837895 0.69607197 0.69375941\n",
      " 0.69144132 0.68911776 0.68678876 0.68445438 0.68211467 0.67976967\n",
      " 0.67741943 0.675064   0.67270343 0.67033777 0.66796706 0.66559136\n",
      " 0.66321071 0.66082517 0.65843478 0.65603959 0.65363965 0.65123501\n",
      " 0.64882572 0.64641183 0.64399339 0.64157045 0.63914306 0.63671126\n",
      " 0.63427512 0.63183467 0.62938997 0.62694107 0.62448801 0.62203085\n",
      " 0.61956965 0.61710444 0.61463528 0.61216222 0.60968531 0.6072046\n",
      " 0.60472014 0.60223198 0.59974018 0.59724477 0.59474583 0.59224338\n",
      " 0.5897375  0.58722821 0.58471559 0.58219968 0.57968052 0.57715817\n",
      " 0.57463269 0.57210412 0.56957251 0.56703791 0.56450039 0.56195998\n",
      " 0.55941674 0.55687071 0.55432196 0.55177054 0.54921648 0.54665985\n",
      " 0.5441007  0.54153908 0.53897503 0.53640862 0.53383989 0.5312689\n",
      " 0.52869569 0.52612031 0.52354283 0.52096329 0.51838173 0.51579822\n",
      " 0.51321281 0.51062554 0.50803648 0.50544566 0.50285314 0.50025897\n",
      " 0.49766321 0.49506591 0.49246711 0.48986688 0.48726525 0.48466229\n",
      " 0.48205803 0.47945255 0.47684588 0.47423808 0.4716292  0.46901929\n",
      " 0.46640841 0.4637966  0.46118391 0.45857041 0.45595613 0.45334113\n",
      " 0.45072546 0.44810917 0.44549232 0.44287495 0.44025712 0.43763888\n",
      " 0.43502028 0.43240136 0.42978219 0.42716281 0.42454327 0.42192362\n",
      " 0.41930392 0.41668422 0.41406456 0.411445   0.40882559 0.40620638\n",
      " 0.40358741 0.40096875 0.39835044 0.39573253 0.39311507 0.39049812\n",
      " 0.38788171 0.38526591 0.38265076 0.38003632 0.37742263 0.37480974\n",
      " 0.37219771 0.36958658 0.36697641 0.36436724 0.36175912 0.3591521\n",
      " 0.35654624 0.35394158 0.35133817 0.34873606 0.34613531 0.34353595\n",
      " 0.34093804 0.33834163 0.33574677 0.3331535  0.33056188 0.32797195\n",
      " 0.32538376 0.32279736 0.32021281 0.31763014 0.31504941 0.31247066\n",
      " 0.30989395 0.30731932 0.30474681 0.30217649 0.29960839 0.29704256\n",
      " 0.29447905 0.29191791 0.28935918 0.28680292 0.28424917 0.28169797\n",
      " 0.27914938 0.27660344 0.27406019 0.27151969 0.26898199 0.26644712\n",
      " 0.26391513 0.26138607 0.25885999 0.25633694 0.25381695 0.25130008\n",
      " 0.24878636 0.24627585 0.2437686  0.24126464 0.23876402 0.23626679\n",
      " 0.23377299 0.23128267 0.22879586 0.22631263 0.22383301 0.22135704\n",
      " 0.21888477 0.21641624 0.2139515  0.21149059 0.20903356 0.20658045\n",
      " 0.2041313  0.20168615 0.19924505 0.19680805 0.19437518 0.19194648\n",
      " 0.18952201 0.1871018  0.18468589 0.18227433 0.17986716 0.17746442\n",
      " 0.17506616 0.17267241 0.17028321 0.16789861 0.16551865 0.16314337\n",
      " 0.16077281 0.15840701 0.15604601 0.15368985 0.15133858 0.14899223\n",
      " 0.14665084 0.14431445 0.14198311 0.13965685 0.1373357  0.13501972\n",
      " 0.13270893 0.13040339 0.12810312 0.12580816 0.12351856 0.12123435\n",
      " 0.11895556 0.11668225 0.11441444 0.11215217 0.10989548 0.1076444\n",
      " 0.10539898 0.10315926 0.10092525 0.09869702 0.09647458 0.09425798\n",
      " 0.09204724 0.08984242 0.08764354 0.08545064 0.08326375 0.08108291\n",
      " 0.07890816 0.07673952 0.07457704 0.07242074 0.07027066 0.06812684\n",
      " 0.06598931 0.0638581  0.06173325 0.05961478 0.05750274 0.05539715\n",
      " 0.05329805 0.05120547 0.04911945 0.04704   ]\n"
     ]
    }
   ],
   "source": [
    "# напишите здесь ваше решение\n",
    "import numpy as np\n",
    "\n",
    "x = np.linspace(-3, 3, 1000)\n",
    "\n",
    "def custom_sinc(x):\n",
    "    return np.where(x == 0, 1, np.sin(x)/x)\n",
    "\n",
    "sinc_values = custom_sinc(x)\n",
    "\n",
    "print(sinc_values)"
   ]
  },
  {
   "cell_type": "markdown",
   "metadata": {
    "id": "JxuuCS7QJDex"
   },
   "source": [
    "7. Определите среднее значение, максимальное значение, минимальное значение, стандартное отклонение, медиану для этого массива."
   ]
  },
  {
   "cell_type": "code",
   "execution_count": 29,
   "metadata": {
    "id": "D1K_vtlhJIRo"
   },
   "outputs": [
    {
     "name": "stdout",
     "output_type": "stream",
     "text": [
      "Среднее значение: 0.615647985802898\n",
      "Максимальное значение: 0.9999984969961717\n",
      "Минимальное значение: 0.0470400026866224\n",
      "Стандартное отклонение: 0.30527060662716465\n",
      "Медиана: 0.664401034236676\n"
     ]
    }
   ],
   "source": [
    "# напишите здесь ваше решение\n",
    "# Среднее значение\n",
    "mean_value = np.mean(sinc_values)\n",
    "\n",
    "# Максимальное значение\n",
    "max_value = np.max(sinc_values)\n",
    "\n",
    "# Минимальное значение\n",
    "min_value = np.min(sinc_values)\n",
    "\n",
    "# Стандартное отклонение\n",
    "std_deviation = np.std(sinc_values)\n",
    "\n",
    "# Медиана\n",
    "median_value = np.median(sinc_values)\n",
    "\n",
    "print(f\"Среднее значение: {mean_value}\")\n",
    "print(f\"Максимальное значение: {max_value}\")\n",
    "print(f\"Минимальное значение: {min_value}\")\n",
    "print(f\"Стандартное отклонение: {std_deviation}\")\n",
    "print(f\"Медиана: {median_value}\")"
   ]
  },
  {
   "cell_type": "markdown",
   "metadata": {
    "id": "HBZcx1RyIwLy"
   },
   "source": [
    "### Задание 2.\n",
    "\n",
    "Используя модуль **pandas**: \n",
    "1. Создайте таблицу с колонками [тип, цвет, масса, размер, стоимость] и индексами [яблоко, банан, апельсин, мандарин, груша, персик, картошка, морковь, лук, капуста]. Заполните массив значениями, отражающими действительность (тип - овощ или фрукт, цвет - строковый тип, остальные колонки - числовой тип)."
   ]
  },
  {
   "cell_type": "code",
   "execution_count": 1,
   "metadata": {
    "ExecuteTime": {
     "end_time": "2023-09-22T06:46:02.782284Z",
     "start_time": "2023-09-22T06:46:02.681794Z"
    },
    "id": "gcLd7SM2IwLy"
   },
   "outputs": [
    {
     "name": "stdout",
     "output_type": "stream",
     "text": [
      "            тип        цвет  масса  размер  стоимость\n",
      "яблоко    фрукт     красный    150       8         15\n",
      "банан     фрукт      желтый    120      20         10\n",
      "апельсин  фрукт   оранжевый    200      10         20\n",
      "мандарин  фрукт   оранжевый     80       6         12\n",
      "груша     фрукт     зеленый    180       9         17\n",
      "персик    фрукт      желтый    130       8         18\n",
      "картошка   овощ  коричневый    200      10          8\n",
      "морковь    овощ   оранжевый     80      15          5\n",
      "лук        овощ       белый     50       5          4\n",
      "капуста    овощ     зеленый    800      25         30\n"
     ]
    }
   ],
   "source": [
    "# напишите здесь ваше решение\n",
    "import pandas as pd\n",
    "\n",
    "# Создаем таблицу\n",
    "data = {\n",
    "    'тип': ['фрукт', 'фрукт', 'фрукт', 'фрукт', 'фрукт', 'фрукт', 'овощ', 'овощ', 'овощ', 'овощ'],\n",
    "    'цвет': ['красный', 'желтый', 'оранжевый', 'оранжевый', 'зеленый', 'желтый', 'коричневый', 'оранжевый', 'белый', 'зеленый'],\n",
    "    # масса в граммах\n",
    "    'масса': [150, 120, 200, 80, 180, 130, 200, 80, 50, 800],\n",
    "    # приблизительный размер в см\n",
    "    'размер': [8, 20, 10, 6, 9, 8, 10, 15, 5, 25],\n",
    "    'стоимость': [15, 10, 20, 12, 17, 18, 8, 5, 4, 30]  # стоимость в рублях\n",
    "}\n",
    "\n",
    "index = ['яблоко', 'банан', 'апельсин', 'мандарин', 'груша',\n",
    "         'персик', 'картошка', 'морковь', 'лук', 'капуста']\n",
    "\n",
    "df = pd.DataFrame(data, index=index)\n",
    "\n",
    "print(df)"
   ]
  },
  {
   "cell_type": "markdown",
   "metadata": {
    "id": "0ygcjQ_CJTC1"
   },
   "source": [
    "2. Выведите последние 4 записи в таблице."
   ]
  },
  {
   "cell_type": "code",
   "execution_count": 2,
   "metadata": {
    "id": "wkoxoM0yJmFO"
   },
   "outputs": [
    {
     "name": "stdout",
     "output_type": "stream",
     "text": [
      "           тип        цвет  масса  размер  стоимость\n",
      "картошка  овощ  коричневый    200      10          8\n",
      "морковь   овощ   оранжевый     80      15          5\n",
      "лук       овощ       белый     50       5          4\n",
      "капуста   овощ     зеленый    800      25         30\n"
     ]
    }
   ],
   "source": [
    "# напишите здесь ваше решение\n",
    "print(df.tail(4))"
   ]
  },
  {
   "cell_type": "markdown",
   "metadata": {
    "id": "YlgycDb8JUwW"
   },
   "source": [
    "3. Выведите информацию о числе колонок, их типе, числе строк."
   ]
  },
  {
   "cell_type": "code",
   "execution_count": 3,
   "metadata": {
    "id": "ZgPyB4fZJmiG"
   },
   "outputs": [
    {
     "name": "stdout",
     "output_type": "stream",
     "text": [
      "<class 'pandas.core.frame.DataFrame'>\n",
      "Index: 10 entries, яблоко to капуста\n",
      "Data columns (total 5 columns):\n",
      " #   Column     Non-Null Count  Dtype \n",
      "---  ------     --------------  ----- \n",
      " 0   тип        10 non-null     object\n",
      " 1   цвет       10 non-null     object\n",
      " 2   масса      10 non-null     int64 \n",
      " 3   размер     10 non-null     int64 \n",
      " 4   стоимость  10 non-null     int64 \n",
      "dtypes: int64(3), object(2)\n",
      "memory usage: 480.0+ bytes\n",
      "None\n"
     ]
    }
   ],
   "source": [
    "# напишите здесь ваше решение\n",
    "print(df.info())"
   ]
  },
  {
   "cell_type": "markdown",
   "metadata": {
    "id": "TvQmRXcjJWlm"
   },
   "source": [
    "4. Определите те фрукты, у которых размер больше размера картошки."
   ]
  },
  {
   "cell_type": "code",
   "execution_count": 30,
   "metadata": {
    "id": "yL2pm50dJm_F"
   },
   "outputs": [
    {
     "name": "stdout",
     "output_type": "stream",
     "text": [
      "Index(['банан'], dtype='object')\n"
     ]
    }
   ],
   "source": [
    "# напишите здесь ваше решение\n",
    "potato_size = df.loc['картошка', 'размер']\n",
    "\n",
    "# Определяем фрукты, у которых размер больше, чем у картошки\n",
    "bigger_fruits = df[(df['тип'] == 'фрукт') & (df['размер'] > potato_size)]\n",
    "\n",
    "print(bigger_fruits.index)"
   ]
  },
  {
   "cell_type": "markdown",
   "metadata": {
    "id": "0htjDJxNJYtG"
   },
   "source": [
    "5. Определите среднюю стоимость тех овощей, которые весят больше банана."
   ]
  },
  {
   "cell_type": "code",
   "execution_count": 5,
   "metadata": {
    "id": "gxJORs8XJnoe"
   },
   "outputs": [
    {
     "name": "stdout",
     "output_type": "stream",
     "text": [
      "Средняя стоимость овощей, которые весят больше банана: 19.0 руб.\n"
     ]
    }
   ],
   "source": [
    "# напишите здесь ваше решение\n",
    "banana_weight = df.loc['банан', 'масса']\n",
    "\n",
    "avg_cost = df[(df['тип'] == 'овощ') & (\n",
    "    df['масса'] > banana_weight)]['стоимость'].mean()\n",
    "\n",
    "print(\n",
    "    f\"Средняя стоимость овощей, которые весят больше банана: {avg_cost} руб.\")"
   ]
  },
  {
   "cell_type": "markdown",
   "metadata": {
    "id": "lzll6uQvJaaF"
   },
   "source": [
    "6. С помошью итерирования по рядам определите среднюю стоимость фруктов."
   ]
  },
  {
   "cell_type": "code",
   "execution_count": 6,
   "metadata": {
    "id": "1g6DJzcbJoGF"
   },
   "outputs": [
    {
     "name": "stdout",
     "output_type": "stream",
     "text": [
      "Средняя стоимость фруктов: 15.333333333333334 руб.\n"
     ]
    }
   ],
   "source": [
    "# напишите здесь ваше решение\n",
    "total_cost = 0  # Общая стоимость фруктов\n",
    "fruit_count = 0  # Количество фруктов\n",
    "\n",
    "for index, row in df.iterrows():\n",
    "    if row['тип'] == 'фрукт':\n",
    "        total_cost += row['стоимость']\n",
    "        fruit_count += 1\n",
    "\n",
    "avg_fruit_cost = total_cost / fruit_count if fruit_count else 0\n",
    "\n",
    "print(f\"Средняя стоимость фруктов: {avg_fruit_cost} руб.\")"
   ]
  },
  {
   "cell_type": "markdown",
   "metadata": {
    "id": "7gW8HfFFJcCe"
   },
   "source": [
    "7. Определите максимальное и минимальное значение, среднее и медиану для массы, размера и стоимости с помощью встроенных статистических функций."
   ]
  },
  {
   "cell_type": "code",
   "execution_count": 7,
   "metadata": {
    "id": "glhJUTBUJokl"
   },
   "outputs": [
    {
     "name": "stdout",
     "output_type": "stream",
     "text": [
      "Максимальное значение:\n",
      "масса        800\n",
      "размер        25\n",
      "стоимость     30\n",
      "dtype: int64\n",
      "\n",
      "Минимальное значение:\n",
      "масса        50\n",
      "размер        5\n",
      "стоимость     4\n",
      "dtype: int64\n",
      "\n",
      "Среднее:\n",
      "масса        199.0\n",
      "размер        11.6\n",
      "стоимость     13.9\n",
      "dtype: float64\n",
      "\n",
      "Медиана:\n",
      "масса        140.0\n",
      "размер         9.5\n",
      "стоимость     13.5\n",
      "dtype: float64\n",
      "\n"
     ]
    }
   ],
   "source": [
    "# напишите здесь ваше решение\n",
    "columns = ['масса', 'размер', 'стоимость']\n",
    "\n",
    "stats = {\n",
    "    'Максимальное значение': df[columns].max(),\n",
    "    'Минимальное значение': df[columns].min(),\n",
    "    'Среднее': df[columns].mean(),\n",
    "    'Медиана': df[columns].median()\n",
    "}\n",
    "\n",
    "for key, value in stats.items():\n",
    "    print(f\"{key}:\\n{value}\\n\")"
   ]
  },
  {
   "cell_type": "markdown",
   "metadata": {
    "id": "QtKNR7wAJdrm"
   },
   "source": [
    "8. Определите максимальное и минимальное значение, среднее и медиану для массы, размера и стоимости с помощью метода **agg()**."
   ]
  },
  {
   "cell_type": "code",
   "execution_count": 8,
   "metadata": {
    "id": "bQLObq14JpD1"
   },
   "outputs": [
    {
     "name": "stdout",
     "output_type": "stream",
     "text": [
      "        масса  размер  стоимость\n",
      "max     800.0    25.0       30.0\n",
      "min      50.0     5.0        4.0\n",
      "mean    199.0    11.6       13.9\n",
      "median  140.0     9.5       13.5\n"
     ]
    }
   ],
   "source": [
    "# напишите здесь ваше решение\n",
    "statistics = df[columns].agg(['max', 'min', 'mean', 'median'])\n",
    "\n",
    "print(statistics)"
   ]
  },
  {
   "cell_type": "markdown",
   "metadata": {
    "id": "kLXPdV35JiBv"
   },
   "source": [
    "9. Сгруппируйте таблицу по цвету фруктов и определите среднее и максимальное значение массы и стоимости для этих групп."
   ]
  },
  {
   "cell_type": "code",
   "execution_count": 9,
   "metadata": {
    "id": "OXMG0hLQJphO"
   },
   "outputs": [
    {
     "name": "stdout",
     "output_type": "stream",
     "text": [
      "            масса       стоимость    \n",
      "             mean  max       mean max\n",
      "цвет                                 \n",
      "белый        50.0   50   4.000000   4\n",
      "желтый      125.0  130  14.000000  18\n",
      "зеленый     490.0  800  23.500000  30\n",
      "коричневый  200.0  200   8.000000   8\n",
      "красный     150.0  150  15.000000  15\n",
      "оранжевый   120.0  200  12.333333  20\n"
     ]
    }
   ],
   "source": [
    "# напишите здесь ваше решение\n",
    "grouped = df.groupby('цвет').agg(\n",
    "    {'масса': ['mean', 'max'], 'стоимость': ['mean', 'max']})\n",
    "\n",
    "print(grouped)"
   ]
  },
  {
   "cell_type": "markdown",
   "metadata": {
    "id": "j0DLVQHZIwLy"
   },
   "source": [
    "## Список литературы"
   ]
  },
  {
   "cell_type": "markdown",
   "metadata": {
    "id": "eujJizL-IwLz"
   },
   "source": [
    "- Модуль **numpy** [https://numpy.org/doc/stable/](https://numpy.org/doc/stable/ \"numpy\")\n",
    "- Модуль **pandas** [https://pandas.pydata.org/docs/](https://pandas.pydata.org/docs/ \"pandas\")"
   ]
  }
 ],
 "metadata": {
  "colab": {
   "collapsed_sections": [
    "7PDt-TbiIwKt",
    "cRsKXJ5UIwK6",
    "ic5lFwuPIwLA",
    "3dFdOrDCIwLK",
    "1eXVCrSaIwLX",
    "-QqNMH0vIwLc",
    "Kgii2IakIwLm",
    "nycBetALIwLq",
    "HuOoDPWMIwLu",
    "N660M6A7IwLx",
    "HBZcx1RyIwLy"
   ],
   "provenance": []
  },
  "kernelspec": {
   "display_name": "Python 3",
   "language": "python",
   "name": "python3"
  },
  "language_info": {
   "codemirror_mode": {
    "name": "ipython",
    "version": 3
   },
   "file_extension": ".py",
   "mimetype": "text/x-python",
   "name": "python",
   "nbconvert_exporter": "python",
   "pygments_lexer": "ipython3",
   "version": "3.11.1"
  }
 },
 "nbformat": 4,
 "nbformat_minor": 0
}
